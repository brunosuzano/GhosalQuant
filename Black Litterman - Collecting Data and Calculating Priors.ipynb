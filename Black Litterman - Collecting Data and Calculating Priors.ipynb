{
 "cells": [
  {
   "cell_type": "markdown",
   "id": "9c738d3a",
   "metadata": {},
   "source": [
    "## Importing data from Yahoo finance"
   ]
  },
  {
   "cell_type": "code",
   "execution_count": 2,
   "id": "0e4f0783",
   "metadata": {},
   "outputs": [],
   "source": [
    "import numpy as np\n",
    "import pandas as pd\n",
    "import matplotlib.pyplot as plt\n",
    "import yfinance as yf"
   ]
  },
  {
   "cell_type": "code",
   "execution_count": 9,
   "id": "4dcc591e",
   "metadata": {},
   "outputs": [
    {
     "data": {
      "text/plain": [
       "'0.1.85'"
      ]
     },
     "execution_count": 9,
     "metadata": {},
     "output_type": "execute_result"
    }
   ],
   "source": [
    "yf.__version__"
   ]
  },
  {
   "cell_type": "code",
   "execution_count": 10,
   "id": "59f56f28",
   "metadata": {},
   "outputs": [],
   "source": [
    "tickers = ['AMZN','AAPL','BRK-A','XOM','MSFT','TSLA','UNH']"
   ]
  },
  {
   "cell_type": "code",
   "execution_count": 11,
   "id": "9666d464",
   "metadata": {},
   "outputs": [
    {
     "name": "stdout",
     "output_type": "stream",
     "text": [
      "[*********************100%***********************]  7 of 7 completed\n"
     ]
    },
    {
     "data": {
      "text/html": [
       "<div>\n",
       "<style scoped>\n",
       "    .dataframe tbody tr th:only-of-type {\n",
       "        vertical-align: middle;\n",
       "    }\n",
       "\n",
       "    .dataframe tbody tr th {\n",
       "        vertical-align: top;\n",
       "    }\n",
       "\n",
       "    .dataframe thead th {\n",
       "        text-align: right;\n",
       "    }\n",
       "</style>\n",
       "<table border=\"1\" class=\"dataframe\">\n",
       "  <thead>\n",
       "    <tr style=\"text-align: right;\">\n",
       "      <th></th>\n",
       "      <th>AAPL</th>\n",
       "      <th>AMZN</th>\n",
       "      <th>BRK-A</th>\n",
       "      <th>MSFT</th>\n",
       "      <th>TSLA</th>\n",
       "      <th>UNH</th>\n",
       "      <th>XOM</th>\n",
       "    </tr>\n",
       "    <tr>\n",
       "      <th>Date</th>\n",
       "      <th></th>\n",
       "      <th></th>\n",
       "      <th></th>\n",
       "      <th></th>\n",
       "      <th></th>\n",
       "      <th></th>\n",
       "      <th></th>\n",
       "    </tr>\n",
       "  </thead>\n",
       "  <tbody>\n",
       "    <tr>\n",
       "      <th>2022-11-07</th>\n",
       "      <td>138.919998</td>\n",
       "      <td>90.529999</td>\n",
       "      <td>438575.0</td>\n",
       "      <td>227.869995</td>\n",
       "      <td>197.080002</td>\n",
       "      <td>545.020020</td>\n",
       "      <td>113.639999</td>\n",
       "    </tr>\n",
       "    <tr>\n",
       "      <th>2022-11-08</th>\n",
       "      <td>139.500000</td>\n",
       "      <td>89.980003</td>\n",
       "      <td>442100.0</td>\n",
       "      <td>228.869995</td>\n",
       "      <td>191.300003</td>\n",
       "      <td>553.049988</td>\n",
       "      <td>114.000000</td>\n",
       "    </tr>\n",
       "    <tr>\n",
       "      <th>2022-11-09</th>\n",
       "      <td>134.869995</td>\n",
       "      <td>86.139999</td>\n",
       "      <td>435945.0</td>\n",
       "      <td>224.509995</td>\n",
       "      <td>177.589996</td>\n",
       "      <td>540.659973</td>\n",
       "      <td>108.900002</td>\n",
       "    </tr>\n",
       "    <tr>\n",
       "      <th>2022-11-10</th>\n",
       "      <td>146.869995</td>\n",
       "      <td>96.629997</td>\n",
       "      <td>457665.0</td>\n",
       "      <td>242.979996</td>\n",
       "      <td>190.720001</td>\n",
       "      <td>544.169983</td>\n",
       "      <td>110.500000</td>\n",
       "    </tr>\n",
       "    <tr>\n",
       "      <th>2022-11-11</th>\n",
       "      <td>149.699997</td>\n",
       "      <td>100.790001</td>\n",
       "      <td>469047.0</td>\n",
       "      <td>247.110001</td>\n",
       "      <td>195.970001</td>\n",
       "      <td>522.080017</td>\n",
       "      <td>113.949997</td>\n",
       "    </tr>\n",
       "  </tbody>\n",
       "</table>\n",
       "</div>"
      ],
      "text/plain": [
       "                  AAPL        AMZN     BRK-A        MSFT        TSLA  \\\n",
       "Date                                                                   \n",
       "2022-11-07  138.919998   90.529999  438575.0  227.869995  197.080002   \n",
       "2022-11-08  139.500000   89.980003  442100.0  228.869995  191.300003   \n",
       "2022-11-09  134.869995   86.139999  435945.0  224.509995  177.589996   \n",
       "2022-11-10  146.869995   96.629997  457665.0  242.979996  190.720001   \n",
       "2022-11-11  149.699997  100.790001  469047.0  247.110001  195.970001   \n",
       "\n",
       "                   UNH         XOM  \n",
       "Date                                \n",
       "2022-11-07  545.020020  113.639999  \n",
       "2022-11-08  553.049988  114.000000  \n",
       "2022-11-09  540.659973  108.900002  \n",
       "2022-11-10  544.169983  110.500000  \n",
       "2022-11-11  522.080017  113.949997  "
      ]
     },
     "execution_count": 11,
     "metadata": {},
     "output_type": "execute_result"
    }
   ],
   "source": [
    "data = yf.download(tickers, start=\"2017-11-14\",end=\"2022-11-14\")\n",
    "prices = data['Adj Close']\n",
    "prices.tail()\n",
    "\n",
    "#putting stock prices into dataframe using yfinance package"
   ]
  },
  {
   "cell_type": "code",
   "execution_count": 12,
   "id": "ee915630",
   "metadata": {},
   "outputs": [
    {
     "name": "stdout",
     "output_type": "stream",
     "text": [
      "[*********************100%***********************]  1 of 1 completed\n"
     ]
    },
    {
     "data": {
      "text/plain": [
       "Date\n",
       "2017-11-14    236.508163\n",
       "2017-11-15    235.324417\n",
       "2017-11-16    237.324844\n",
       "2017-11-17    236.627457\n",
       "2017-11-20    237.031235\n",
       "Name: Adj Close, dtype: float64"
      ]
     },
     "execution_count": 12,
     "metadata": {},
     "output_type": "execute_result"
    }
   ],
   "source": [
    "market_prices = yf.download(\"SPY\", start=\"2017-11-14\", end=\"2022-11-14\")[\"Adj Close\"]\n",
    "market_prices.head()\n",
    "\n",
    "#putting S&P 500 prices from the same period into a pandas series"
   ]
  },
  {
   "cell_type": "code",
   "execution_count": 13,
   "id": "cff052ba",
   "metadata": {},
   "outputs": [
    {
     "data": {
      "text/plain": [
       "{'AMZN': 1028229365760,\n",
       " 'AAPL': 2381442449408,\n",
       " 'BRK-A': 683190779904,\n",
       " 'XOM': 469279113216,\n",
       " 'MSFT': 1842074091520,\n",
       " 'TSLA': 618824269824,\n",
       " 'UNH': 487804928000}"
      ]
     },
     "execution_count": 13,
     "metadata": {},
     "output_type": "execute_result"
    }
   ],
   "source": [
    "mcaps = {}\n",
    "for t in tickers:\n",
    "    stock = yf.Ticker(t)\n",
    "    mcaps[t] = stock.info['marketCap']\n",
    "mcaps\n",
    "\n",
    "#making a dictionary of the latest market caps of each stock"
   ]
  },
  {
   "cell_type": "markdown",
   "id": "8ca648eb",
   "metadata": {},
   "source": [
    "## Constructing the prior"
   ]
  },
  {
   "cell_type": "markdown",
   "id": "46cd056e",
   "metadata": {},
   "source": [
    "Instructions for installing pypfopt: \n",
    "https://pyportfolioopt.readthedocs.io/en/latest/index.html\n",
    "\n",
    "(requires C++ to be installed, also requires numpy and pandas to run)"
   ]
  },
  {
   "cell_type": "code",
   "execution_count": 19,
   "id": "605a8e4a",
   "metadata": {},
   "outputs": [],
   "source": [
    "import pypfopt"
   ]
  },
  {
   "cell_type": "code",
   "execution_count": 20,
   "id": "dcecd93f",
   "metadata": {},
   "outputs": [
    {
     "data": {
      "text/plain": [
       "2.354381656772395"
      ]
     },
     "execution_count": 20,
     "metadata": {},
     "output_type": "execute_result"
    }
   ],
   "source": [
    "from pypfopt import black_litterman, risk_models\n",
    "from pypfopt import BlackLittermanModel, plotting\n",
    "\n",
    "S = risk_models.CovarianceShrinkage(prices).ledoit_wolf()\n",
    "delta = black_litterman.market_implied_risk_aversion(market_prices)\n",
    "delta\n",
    "\n",
    "#delta is the 'market implied risk premium', more detail below\n",
    "#instructions for installing pypfopt:\n",
    "https://pyportfolioopt.readthedocs.io/en/latest/index.html"
   ]
  },
  {
   "cell_type": "code",
   "execution_count": 16,
   "id": "1683786e",
   "metadata": {},
   "outputs": [
    {
     "data": {
      "text/plain": [
       "<AxesSubplot:>"
      ]
     },
     "execution_count": 16,
     "metadata": {},
     "output_type": "execute_result"
    },
    {
     "data": {
      "image/png": "[encoded data removed]",
      "text/plain": [
       "<Figure size 432x288 with 2 Axes>"
      ]
     },
     "metadata": {
      "needs_background": "light"
     },
     "output_type": "display_data"
    }
   ],
   "source": [
    "plotting.plot_covariance(S,plot_correlation=True)"
   ]
  },
  {
   "cell_type": "code",
   "execution_count": 21,
   "id": "b534ffb9",
   "metadata": {},
   "outputs": [
    {
     "data": {
      "text/plain": [
       "AAPL     0.212469\n",
       "AMZN     0.196388\n",
       "BRK-A    0.114125\n",
       "MSFT     0.196562\n",
       "TSLA     0.280025\n",
       "UNH      0.131907\n",
       "XOM      0.117426\n",
       "dtype: float64"
      ]
     },
     "execution_count": 21,
     "metadata": {},
     "output_type": "execute_result"
    }
   ],
   "source": [
    "market_prior = black_litterman.market_implied_prior_returns(mcaps, delta, S)\n",
    "market_prior"
   ]
  },
  {
   "cell_type": "code",
   "execution_count": 22,
   "id": "2fb41dac",
   "metadata": {},
   "outputs": [
    {
     "data": {
      "text/plain": [
       "<AxesSubplot:>"
      ]
     },
     "execution_count": 22,
     "metadata": {},
     "output_type": "execute_result"
    },
    {
     "data": {
      "image/png": "[encoded data removed]",
      "text/plain": [
       "<Figure size 720x360 with 1 Axes>"
      ]
     },
     "metadata": {
      "needs_background": "light"
     },
     "output_type": "display_data"
    }
   ],
   "source": [
    "market_prior.plot.barh(figsize=(10,5))"
   ]
  },
  {
   "cell_type": "markdown",
   "id": "8c00db1f",
   "metadata": {},
   "source": [
    "### Explanation\n",
    "\n",
    "What it just calculated was the 'market implied returns' vector (Pi), which is equal to the product of the covariance matrix of asset returns (Sigma) and a vector of weightings proportional to market cap (w_mkt), multiplied by the market-implied risk premium (delta).\n",
    "\n",
    "Market-implied risk premium = excess return / variance\n",
    "\n",
    "Next step: add in views vector Q and picking matrix P, which together encode all the information about our predictions, which are either of the form 'Stock X will change by A%' or 'Stock X will outperform stock Y by B%'.\n",
    "\n",
    "See https://pyportfolioopt.readthedocs.io/en/latest/BlackLitterman.html#priors for more details"
   ]
  },
  {
   "cell_type": "code",
   "execution_count": null,
   "id": "6eccc52b",
   "metadata": {},
   "outputs": [],
   "source": []
  }
 ],
 "metadata": {
  "kernelspec": {
   "display_name": "Python 3 (ipykernel)",
   "language": "python",
   "name": "python3"
  },
  "language_info": {
   "codemirror_mode": {
    "name": "ipython",
    "version": 3
   },
   "file_extension": ".py",
   "mimetype": "text/x-python",
   "name": "python",
   "nbconvert_exporter": "python",
   "pygments_lexer": "ipython3",
   "version": "3.9.12"
  }
 },
 "nbformat": 4,
 "nbformat_minor": 5
}
