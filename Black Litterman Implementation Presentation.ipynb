{
 "cells": [
  {
   "cell_type": "markdown",
   "id": "9c738d3a",
   "metadata": {},
   "source": [
    "## Importing data from Yahoo finance"
   ]
  },
  {
   "cell_type": "code",
   "execution_count": 1,
   "id": "0e4f0783",
   "metadata": {},
   "outputs": [],
   "source": [
    "import numpy as np\n",
    "import pandas as pd\n",
    "import matplotlib.pyplot as plt\n",
    "import yfinance as yf"
   ]
  },
  {
   "cell_type": "code",
   "execution_count": 2,
   "id": "4dcc591e",
   "metadata": {},
   "outputs": [
    {
     "data": {
      "text/plain": [
       "'0.1.85'"
      ]
     },
     "execution_count": 2,
     "metadata": {},
     "output_type": "execute_result"
    }
   ],
   "source": [
    "yf.__version__"
   ]
  },
  {
   "cell_type": "code",
   "execution_count": 3,
   "id": "59f56f28",
   "metadata": {},
   "outputs": [],
   "source": [
    "tickers = ['AMZN','AAPL','BRK-A','XOM','MSFT','TSLA','UNH']"
   ]
  },
  {
   "cell_type": "code",
   "execution_count": 4,
   "id": "9666d464",
   "metadata": {},
   "outputs": [
    {
     "name": "stdout",
     "output_type": "stream",
     "text": [
      "[*********************100%***********************]  7 of 7 completed\n"
     ]
    },
    {
     "data": {
      "text/html": [
       "<div>\n",
       "<style scoped>\n",
       "    .dataframe tbody tr th:only-of-type {\n",
       "        vertical-align: middle;\n",
       "    }\n",
       "\n",
       "    .dataframe tbody tr th {\n",
       "        vertical-align: top;\n",
       "    }\n",
       "\n",
       "    .dataframe thead th {\n",
       "        text-align: right;\n",
       "    }\n",
       "</style>\n",
       "<table border=\"1\" class=\"dataframe\">\n",
       "  <thead>\n",
       "    <tr style=\"text-align: right;\">\n",
       "      <th></th>\n",
       "      <th>AAPL</th>\n",
       "      <th>AMZN</th>\n",
       "      <th>BRK-A</th>\n",
       "      <th>MSFT</th>\n",
       "      <th>TSLA</th>\n",
       "      <th>UNH</th>\n",
       "      <th>XOM</th>\n",
       "    </tr>\n",
       "    <tr>\n",
       "      <th>Date</th>\n",
       "      <th></th>\n",
       "      <th></th>\n",
       "      <th></th>\n",
       "      <th></th>\n",
       "      <th></th>\n",
       "      <th></th>\n",
       "      <th></th>\n",
       "    </tr>\n",
       "  </thead>\n",
       "  <tbody>\n",
       "    <tr>\n",
       "      <th>2022-11-07</th>\n",
       "      <td>138.919998</td>\n",
       "      <td>90.529999</td>\n",
       "      <td>438575.0</td>\n",
       "      <td>227.229630</td>\n",
       "      <td>197.080002</td>\n",
       "      <td>545.020020</td>\n",
       "      <td>112.732475</td>\n",
       "    </tr>\n",
       "    <tr>\n",
       "      <th>2022-11-08</th>\n",
       "      <td>139.500000</td>\n",
       "      <td>89.980003</td>\n",
       "      <td>442100.0</td>\n",
       "      <td>228.226822</td>\n",
       "      <td>191.300003</td>\n",
       "      <td>553.049988</td>\n",
       "      <td>113.089600</td>\n",
       "    </tr>\n",
       "    <tr>\n",
       "      <th>2022-11-09</th>\n",
       "      <td>134.869995</td>\n",
       "      <td>86.139999</td>\n",
       "      <td>435945.0</td>\n",
       "      <td>223.879074</td>\n",
       "      <td>177.589996</td>\n",
       "      <td>540.659973</td>\n",
       "      <td>108.030334</td>\n",
       "    </tr>\n",
       "    <tr>\n",
       "      <th>2022-11-10</th>\n",
       "      <td>146.869995</td>\n",
       "      <td>96.629997</td>\n",
       "      <td>457665.0</td>\n",
       "      <td>242.297165</td>\n",
       "      <td>190.720001</td>\n",
       "      <td>544.169983</td>\n",
       "      <td>109.617554</td>\n",
       "    </tr>\n",
       "    <tr>\n",
       "      <th>2022-11-11</th>\n",
       "      <td>149.699997</td>\n",
       "      <td>100.790001</td>\n",
       "      <td>469047.0</td>\n",
       "      <td>246.415558</td>\n",
       "      <td>195.970001</td>\n",
       "      <td>522.080017</td>\n",
       "      <td>113.040001</td>\n",
       "    </tr>\n",
       "  </tbody>\n",
       "</table>\n",
       "</div>"
      ],
      "text/plain": [
       "                  AAPL        AMZN     BRK-A        MSFT        TSLA  \\\n",
       "Date                                                                   \n",
       "2022-11-07  138.919998   90.529999  438575.0  227.229630  197.080002   \n",
       "2022-11-08  139.500000   89.980003  442100.0  228.226822  191.300003   \n",
       "2022-11-09  134.869995   86.139999  435945.0  223.879074  177.589996   \n",
       "2022-11-10  146.869995   96.629997  457665.0  242.297165  190.720001   \n",
       "2022-11-11  149.699997  100.790001  469047.0  246.415558  195.970001   \n",
       "\n",
       "                   UNH         XOM  \n",
       "Date                                \n",
       "2022-11-07  545.020020  112.732475  \n",
       "2022-11-08  553.049988  113.089600  \n",
       "2022-11-09  540.659973  108.030334  \n",
       "2022-11-10  544.169983  109.617554  \n",
       "2022-11-11  522.080017  113.040001  "
      ]
     },
     "execution_count": 4,
     "metadata": {},
     "output_type": "execute_result"
    }
   ],
   "source": [
    "data = yf.download(tickers, start=\"2017-11-14\",end=\"2022-11-14\")\n",
    "prices = data['Adj Close']\n",
    "prices.tail()\n",
    "\n",
    "#putting stock prices into dataframe using yfinance package"
   ]
  },
  {
   "cell_type": "code",
   "execution_count": 5,
   "id": "ee915630",
   "metadata": {},
   "outputs": [
    {
     "name": "stdout",
     "output_type": "stream",
     "text": [
      "[*********************100%***********************]  1 of 1 completed\n"
     ]
    },
    {
     "data": {
      "text/plain": [
       "Date\n",
       "2017-11-14    236.508163\n",
       "2017-11-15    235.324371\n",
       "2017-11-16    237.324860\n",
       "2017-11-17    236.627426\n",
       "2017-11-20    237.031250\n",
       "Name: Adj Close, dtype: float64"
      ]
     },
     "execution_count": 5,
     "metadata": {},
     "output_type": "execute_result"
    }
   ],
   "source": [
    "market_prices = yf.download(\"SPY\", start=\"2017-11-14\", end=\"2022-11-14\")[\"Adj Close\"]\n",
    "market_prices.head()\n",
    "\n",
    "#putting S&P 500 prices from the same period into a pandas series"
   ]
  },
  {
   "cell_type": "code",
   "execution_count": 6,
   "id": "cff052ba",
   "metadata": {},
   "outputs": [
    {
     "data": {
      "text/plain": [
       "{'AMZN': 962822209536,\n",
       " 'AAPL': 2307788111872,\n",
       " 'BRK-A': 697733611520,\n",
       " 'XOM': 455042203648,\n",
       " 'MSFT': 1812703477760,\n",
       " 'TSLA': 583425851392,\n",
       " 'UNH': 499904774144}"
      ]
     },
     "execution_count": 6,
     "metadata": {},
     "output_type": "execute_result"
    }
   ],
   "source": [
    "mcaps = {}\n",
    "for t in tickers:\n",
    "    stock = yf.Ticker(t)\n",
    "    mcaps[t] = stock.info['marketCap']\n",
    "mcaps\n",
    "\n",
    "#making a dictionary of the latest market caps of each stock"
   ]
  },
  {
   "cell_type": "markdown",
   "id": "8ca648eb",
   "metadata": {},
   "source": [
    "## Constructing the prior"
   ]
  },
  {
   "cell_type": "markdown",
   "id": "cf365ced",
   "metadata": {},
   "source": [
    "Instructions for installing pypfopt: \n",
    "https://pyportfolioopt.readthedocs.io/en/latest/index.html\n",
    "\n",
    "(requires C++ to be installed, also requires numpy and pandas to run)"
   ]
  },
  {
   "cell_type": "code",
   "execution_count": 7,
   "id": "605a8e4a",
   "metadata": {},
   "outputs": [],
   "source": [
    "import pypfopt"
   ]
  },
  {
   "cell_type": "code",
   "execution_count": 8,
   "id": "dcecd93f",
   "metadata": {},
   "outputs": [
    {
     "data": {
      "text/plain": [
       "2.354381413327307"
      ]
     },
     "execution_count": 8,
     "metadata": {},
     "output_type": "execute_result"
    }
   ],
   "source": [
    "from pypfopt import black_litterman, risk_models\n",
    "from pypfopt import BlackLittermanModel, plotting\n",
    "\n",
    "S = risk_models.CovarianceShrinkage(prices).ledoit_wolf()\n",
    "delta = black_litterman.market_implied_risk_aversion(market_prices)\n",
    "delta\n",
    "\n",
    "#delta is the 'market implied risk premium', more detail below\n",
    "#instructions for installing pypfopt:\n",
    "#https://pyportfolioopt.readthedocs.io/en/latest/index.html"
   ]
  },
  {
   "cell_type": "code",
   "execution_count": 11,
   "id": "1683786e",
   "metadata": {},
   "outputs": [
    {
     "data": {
      "text/html": [
       "<div>\n",
       "<style scoped>\n",
       "    .dataframe tbody tr th:only-of-type {\n",
       "        vertical-align: middle;\n",
       "    }\n",
       "\n",
       "    .dataframe tbody tr th {\n",
       "        vertical-align: top;\n",
       "    }\n",
       "\n",
       "    .dataframe thead th {\n",
       "        text-align: right;\n",
       "    }\n",
       "</style>\n",
       "<table border=\"1\" class=\"dataframe\">\n",
       "  <thead>\n",
       "    <tr style=\"text-align: right;\">\n",
       "      <th></th>\n",
       "      <th>AAPL</th>\n",
       "      <th>AMZN</th>\n",
       "      <th>BRK-A</th>\n",
       "      <th>MSFT</th>\n",
       "      <th>TSLA</th>\n",
       "      <th>UNH</th>\n",
       "      <th>XOM</th>\n",
       "    </tr>\n",
       "  </thead>\n",
       "  <tbody>\n",
       "    <tr>\n",
       "      <th>AAPL</th>\n",
       "      <td>0.110720</td>\n",
       "      <td>0.075439</td>\n",
       "      <td>0.040539</td>\n",
       "      <td>0.077575</td>\n",
       "      <td>0.098873</td>\n",
       "      <td>0.047699</td>\n",
       "      <td>0.037758</td>\n",
       "    </tr>\n",
       "    <tr>\n",
       "      <th>AMZN</th>\n",
       "      <td>0.075439</td>\n",
       "      <td>0.126363</td>\n",
       "      <td>0.031366</td>\n",
       "      <td>0.076801</td>\n",
       "      <td>0.097810</td>\n",
       "      <td>0.036003</td>\n",
       "      <td>0.025849</td>\n",
       "    </tr>\n",
       "    <tr>\n",
       "      <th>BRK-A</th>\n",
       "      <td>0.040539</td>\n",
       "      <td>0.031366</td>\n",
       "      <td>0.051274</td>\n",
       "      <td>0.038923</td>\n",
       "      <td>0.040998</td>\n",
       "      <td>0.037809</td>\n",
       "      <td>0.044619</td>\n",
       "    </tr>\n",
       "    <tr>\n",
       "      <th>MSFT</th>\n",
       "      <td>0.077575</td>\n",
       "      <td>0.076801</td>\n",
       "      <td>0.038923</td>\n",
       "      <td>0.095648</td>\n",
       "      <td>0.091127</td>\n",
       "      <td>0.049349</td>\n",
       "      <td>0.034742</td>\n",
       "    </tr>\n",
       "    <tr>\n",
       "      <th>TSLA</th>\n",
       "      <td>0.098873</td>\n",
       "      <td>0.097810</td>\n",
       "      <td>0.040998</td>\n",
       "      <td>0.091127</td>\n",
       "      <td>0.413354</td>\n",
       "      <td>0.044131</td>\n",
       "      <td>0.043251</td>\n",
       "    </tr>\n",
       "    <tr>\n",
       "      <th>UNH</th>\n",
       "      <td>0.047699</td>\n",
       "      <td>0.036003</td>\n",
       "      <td>0.037809</td>\n",
       "      <td>0.049349</td>\n",
       "      <td>0.044131</td>\n",
       "      <td>0.089028</td>\n",
       "      <td>0.040311</td>\n",
       "    </tr>\n",
       "    <tr>\n",
       "      <th>XOM</th>\n",
       "      <td>0.037758</td>\n",
       "      <td>0.025849</td>\n",
       "      <td>0.044619</td>\n",
       "      <td>0.034742</td>\n",
       "      <td>0.043251</td>\n",
       "      <td>0.040311</td>\n",
       "      <td>0.113783</td>\n",
       "    </tr>\n",
       "  </tbody>\n",
       "</table>\n",
       "</div>"
      ],
      "text/plain": [
       "           AAPL      AMZN     BRK-A      MSFT      TSLA       UNH       XOM\n",
       "AAPL   0.110720  0.075439  0.040539  0.077575  0.098873  0.047699  0.037758\n",
       "AMZN   0.075439  0.126363  0.031366  0.076801  0.097810  0.036003  0.025849\n",
       "BRK-A  0.040539  0.031366  0.051274  0.038923  0.040998  0.037809  0.044619\n",
       "MSFT   0.077575  0.076801  0.038923  0.095648  0.091127  0.049349  0.034742\n",
       "TSLA   0.098873  0.097810  0.040998  0.091127  0.413354  0.044131  0.043251\n",
       "UNH    0.047699  0.036003  0.037809  0.049349  0.044131  0.089028  0.040311\n",
       "XOM    0.037758  0.025849  0.044619  0.034742  0.043251  0.040311  0.113783"
      ]
     },
     "execution_count": 11,
     "metadata": {},
     "output_type": "execute_result"
    }
   ],
   "source": [
    "S"
   ]
  },
  {
   "cell_type": "code",
   "execution_count": 12,
   "id": "b534ffb9",
   "metadata": {},
   "outputs": [
    {
     "data": {
      "text/plain": [
       "AAPL     0.211636\n",
       "AMZN     0.194884\n",
       "BRK-A    0.114314\n",
       "MSFT     0.196000\n",
       "TSLA     0.277023\n",
       "UNH      0.132316\n",
       "XOM      0.117559\n",
       "dtype: float64"
      ]
     },
     "execution_count": 12,
     "metadata": {},
     "output_type": "execute_result"
    }
   ],
   "source": [
    "market_prior = black_litterman.market_implied_prior_returns(mcaps, delta, S)\n",
    "market_prior"
   ]
  },
  {
   "cell_type": "code",
   "execution_count": 13,
   "id": "2fb41dac",
   "metadata": {},
   "outputs": [
    {
     "data": {
      "text/plain": [
       "<AxesSubplot:>"
      ]
     },
     "execution_count": 13,
     "metadata": {},
     "output_type": "execute_result"
    },
    {
     "data": {
      "image/png": "[encoded data removed]",
      "text/plain": [
       "<Figure size 720x360 with 1 Axes>"
      ]
     },
     "metadata": {
      "needs_background": "light"
     },
     "output_type": "display_data"
    }
   ],
   "source": [
    "market_prior.plot.barh(figsize=(10,5))"
   ]
  },
  {
   "cell_type": "markdown",
   "id": "8c00db1f",
   "metadata": {},
   "source": [
    "### Explanation\n",
    "\n",
    "What it just calculated was the 'market implied returns' vector (Pi), which is equal to the product of the covariance matrix of asset returns (Sigma) and a vector of weightings proportional to market cap (w_mkt), multiplied by the market-implied risk premium (delta).\n",
    "\n",
    "Market-implied risk premium = excess return / variance\n",
    "\n",
    "Next step: add in views vector Q and picking matrix P, which together encode all the information about our predictions.\n",
    "\n",
    "See https://pyportfolioopt.readthedocs.io/en/latest/BlackLitterman.html#priors for more details"
   ]
  },
  {
   "cell_type": "markdown",
   "id": "bc72aa18",
   "metadata": {},
   "source": [
    "## Adding Views"
   ]
  },
  {
   "cell_type": "markdown",
   "id": "95375213",
   "metadata": {},
   "source": [
    "The model now requires us to input our predictions, all of which are either of the form 'Stock A will change by X%' or 'Stock A will outperform stock B by X%'. Due to the convenient format of Q and P, we can also set veiws of the form:\n",
    "\"one (normalised) linear combination of stocks, A, will outperform another, B, by X%\" \n",
    "In the style of view number 4 in the example on the website.\n",
    "\n",
    "The format of the views vector Q and picking matrix P is as follows:\n",
    "\n",
    "Suppose we input q views, and have n assets in question. The vector Q then has q components, and P is a matrix with q rows and n columns. The format of P and Q is then such that, if we take a vector of the expected fractional return of each asset (so, with n components) and call it R, our set of views is equivalent to equating the vectors PR and Q. \n",
    "\n",
    "Note: if all of our views are absolute (ie, a prediction of the return of a particular asset) then we need only to put our views in a dictionary and the package will construct Q and P for us, whereas if some of our views are relative (ie, a predictions of some assets outperforming others) then we will need to construct P ourselves.\n",
    "\n",
    "For now, I'll run an example using only absolute views, with the chance to add in relative ones later. Taking relative veiws into consideration would also imply making some assumptions about the market's return, and we want to minimise the amount of external assumptions made at this stage.\n",
    "\n",
    "First Example: Suppose we input the following views for the 7 assets used so far:\n",
    " - AAPL will rise 20%\n",
    " - AMZN will rise 30%\n",
    " - BRK-A will rise 10%\n",
    " - TSLA will rise 20%\n",
    " - UNH will rise 10%\n",
    " - XOM will rise 60%\n",
    " \n",
    "All arbitrary values, with some artifically picked to oppose priors and see what happens.\n",
    " \n",
    "Note: No view is made regarding Microsoft: the example on the website didn't use views for all assets, so I'll try a similar example\n",
    "\n",
    "Parameter changes to later investigate:\n",
    "\n",
    " - How long a time period should we use for our priors in order to balance making informed estimates of implied market returns and using the most relevant data to inform estimates \n",
    " \n",
    " - The uncertainty matrix for our views (which method is best, Idzorek seems better than default)\n",
    " \n",
    " - How does changing the tau parameter affect weightings? (in some cases, it won't)"
   ]
  },
  {
   "cell_type": "code",
   "execution_count": 14,
   "id": "1c1c30e5",
   "metadata": {},
   "outputs": [],
   "source": [
    "viewdict = {\n",
    "    \"AAPL\": 0.2,\n",
    "    \"AMZN\": 0.3,\n",
    "    \"BRK-A\": 0.1,\n",
    "    \"TSLA\": 0.2,\n",
    "    \"UNH\": 0.1,\n",
    "    \"XOM\": 0.6\n",
    "}\n",
    "\n",
    "bl = BlackLittermanModel(S, pi=market_prior, absolute_views=viewdict)"
   ]
  },
  {
   "cell_type": "code",
   "execution_count": 15,
   "id": "72a96c8a",
   "metadata": {},
   "outputs": [],
   "source": [
    "#adding in confidences\n",
    "\n",
    "confidences = [\n",
    "    0.8,\n",
    "    0.5,\n",
    "    0.3,\n",
    "    0.9,\n",
    "    0.8,\n",
    "    0.7\n",
    "]\n",
    "\n",
    "#could instead put 1 standard deviation intervals (so a 68% confidence interval)"
   ]
  },
  {
   "cell_type": "code",
   "execution_count": 16,
   "id": "97d78175",
   "metadata": {},
   "outputs": [],
   "source": [
    "bl = BlackLittermanModel(S, pi=market_prior, absolute_views=viewdict, omega=\"idzorek\", view_confidences=confidences)"
   ]
  },
  {
   "cell_type": "code",
   "execution_count": 17,
   "id": "f8f1e140",
   "metadata": {},
   "outputs": [
    {
     "data": {
      "image/png": "[encoded data removed]",
      "text/plain": [
       "<Figure size 504x504 with 1 Axes>"
      ]
     },
     "metadata": {
      "needs_background": "light"
     },
     "output_type": "display_data"
    }
   ],
   "source": [
    "fig, ax = plt.subplots(figsize=(7,7))\n",
    "im = ax.imshow(bl.omega)\n",
    "\n",
    "# We want to show all ticks...\n",
    "ax.set_xticks(np.arange(len(bl.tickers)))\n",
    "ax.set_yticks(np.arange(len(bl.tickers)))\n",
    "\n",
    "ax.set_xticklabels(bl.tickers)\n",
    "ax.set_yticklabels(bl.tickers)\n",
    "plt.show()"
   ]
  },
  {
   "cell_type": "code",
   "execution_count": 18,
   "id": "7fd84cfa",
   "metadata": {},
   "outputs": [
    {
     "data": {
      "text/plain": [
       "array([0.001384  , 0.00631815, 0.00598198, 0.00229641, 0.00111285,\n",
       "       0.00243821])"
      ]
     },
     "execution_count": 18,
     "metadata": {},
     "output_type": "execute_result"
    }
   ],
   "source": [
    "np.diag(bl.omega)"
   ]
  },
  {
   "cell_type": "markdown",
   "id": "d8503322",
   "metadata": {},
   "source": [
    "### Remark on different methods for calculating omega, the uncertainty matrix for the views\n",
    "\n",
    "Omega was just calculated using the \"Idzorek\" method (one of many). In the Idzorek method, the confidence for each view is taken into account (given in either percentage or interval format), so accounts directly for your chosen uncertainty for each view. It also uses Sigma, Pi, Q, P (all as defined earlier), and a risk aversion factor (like in the CAPM). Thus, it factors in both market implied returns and our view uncertainties.\n",
    "\n",
    "If you don't specify a different argument: omega=\"____\", then the default calculation is Omega = tau P Sigma P^T, where Sigma is again the covariance matrix used to calculate the priors, so this accounts for market implied views somewhat. Do note that if you have an absolute view for each stock (making P the identity, or something row-equivalent), then this wouldn't add much nuance to the model, and Omega could just be tau times the identity matrix.\n",
    "\n",
    "In these two cases, the tau factor ends up cancelling out, so the value we give it doesn't matter."
   ]
  },
  {
   "cell_type": "markdown",
   "id": "85b66714",
   "metadata": {},
   "source": [
    "## Posterior Estimates"
   ]
  },
  {
   "cell_type": "code",
   "execution_count": 19,
   "id": "64d45b80",
   "metadata": {},
   "outputs": [],
   "source": [
    "omega = bl.omega"
   ]
  },
  {
   "cell_type": "code",
   "execution_count": 20,
   "id": "8bbdafec",
   "metadata": {},
   "outputs": [],
   "source": [
    "bl = BlackLittermanModel(S, pi=\"market\", market_caps=mcaps, risk_aversion=delta,\n",
    "                        absolute_views=viewdict, omega=omega)"
   ]
  },
  {
   "cell_type": "code",
   "execution_count": 21,
   "id": "b6b822cf",
   "metadata": {},
   "outputs": [
    {
     "data": {
      "text/plain": [
       "AAPL     0.213314\n",
       "AMZN     0.220778\n",
       "BRK-A    0.170933\n",
       "MSFT     0.205331\n",
       "TSLA     0.215538\n",
       "UNH      0.124144\n",
       "XOM      0.423237\n",
       "dtype: float64"
      ]
     },
     "execution_count": 21,
     "metadata": {},
     "output_type": "execute_result"
    }
   ],
   "source": [
    "# Posterior estimate of returns\n",
    "ret_bl = bl.bl_returns()\n",
    "ret_bl"
   ]
  },
  {
   "cell_type": "code",
   "execution_count": 33,
   "id": "c5e121fd",
   "metadata": {},
   "outputs": [
    {
     "data": {
      "text/html": [
       "<div>\n",
       "<style scoped>\n",
       "    .dataframe tbody tr th:only-of-type {\n",
       "        vertical-align: middle;\n",
       "    }\n",
       "\n",
       "    .dataframe tbody tr th {\n",
       "        vertical-align: top;\n",
       "    }\n",
       "\n",
       "    .dataframe thead th {\n",
       "        text-align: right;\n",
       "    }\n",
       "</style>\n",
       "<table border=\"1\" class=\"dataframe\">\n",
       "  <thead>\n",
       "    <tr style=\"text-align: right;\">\n",
       "      <th></th>\n",
       "      <th>Prior</th>\n",
       "      <th>Posterior</th>\n",
       "      <th>Views</th>\n",
       "    </tr>\n",
       "  </thead>\n",
       "  <tbody>\n",
       "    <tr>\n",
       "      <th>AAPL</th>\n",
       "      <td>0.211636</td>\n",
       "      <td>0.213314</td>\n",
       "      <td>0.2</td>\n",
       "    </tr>\n",
       "    <tr>\n",
       "      <th>AMZN</th>\n",
       "      <td>0.194884</td>\n",
       "      <td>0.220778</td>\n",
       "      <td>0.3</td>\n",
       "    </tr>\n",
       "    <tr>\n",
       "      <th>BRK-A</th>\n",
       "      <td>0.114314</td>\n",
       "      <td>0.170933</td>\n",
       "      <td>0.1</td>\n",
       "    </tr>\n",
       "    <tr>\n",
       "      <th>MSFT</th>\n",
       "      <td>0.196000</td>\n",
       "      <td>0.205331</td>\n",
       "      <td>NaN</td>\n",
       "    </tr>\n",
       "    <tr>\n",
       "      <th>TSLA</th>\n",
       "      <td>0.277023</td>\n",
       "      <td>0.215538</td>\n",
       "      <td>0.2</td>\n",
       "    </tr>\n",
       "    <tr>\n",
       "      <th>UNH</th>\n",
       "      <td>0.132316</td>\n",
       "      <td>0.124144</td>\n",
       "      <td>0.1</td>\n",
       "    </tr>\n",
       "    <tr>\n",
       "      <th>XOM</th>\n",
       "      <td>0.117559</td>\n",
       "      <td>0.423237</td>\n",
       "      <td>0.6</td>\n",
       "    </tr>\n",
       "  </tbody>\n",
       "</table>\n",
       "</div>"
      ],
      "text/plain": [
       "          Prior  Posterior  Views\n",
       "AAPL   0.211636   0.213314    0.2\n",
       "AMZN   0.194884   0.220778    0.3\n",
       "BRK-A  0.114314   0.170933    0.1\n",
       "MSFT   0.196000   0.205331    NaN\n",
       "TSLA   0.277023   0.215538    0.2\n",
       "UNH    0.132316   0.124144    0.1\n",
       "XOM    0.117559   0.423237    0.6"
      ]
     },
     "execution_count": 33,
     "metadata": {},
     "output_type": "execute_result"
    }
   ],
   "source": [
    "rets_df = pd.DataFrame([market_prior, ret_bl, pd.Series(viewdict)], \n",
    "             index=[\"Prior\", \"Posterior\", \"Views\"]).T\n",
    "rets_df"
   ]
  },
  {
   "cell_type": "markdown",
   "id": "ce2b6d0a",
   "metadata": {},
   "source": [
    "Remarks:\n",
    "\n",
    " - No view for Microsoft, with generally positive views for others, intuitively results in its posterior weighting being lower than the prior\n",
    " - The markets seem to have had a lot more faith than our analysts in Tesla in this case"
   ]
  },
  {
   "cell_type": "code",
   "execution_count": 34,
   "id": "1d708877",
   "metadata": {},
   "outputs": [
    {
     "data": {
      "image/png": "[encoded data removed]",
      "text/plain": [
       "<Figure size 864x576 with 1 Axes>"
      ]
     },
     "metadata": {
      "needs_background": "light"
     },
     "output_type": "display_data"
    }
   ],
   "source": [
    "rets_df.plot.bar(figsize=(12,8));"
   ]
  },
  {
   "cell_type": "markdown",
   "id": "81647e1c",
   "metadata": {},
   "source": [
    "## Portfolio Allocation"
   ]
  },
  {
   "cell_type": "code",
   "execution_count": 35,
   "id": "0f18080e",
   "metadata": {},
   "outputs": [
    {
     "name": "stderr",
     "output_type": "stream",
     "text": [
      "C:\\Users\\samdo\\anaconda3\\lib\\site-packages\\pypfopt\\efficient_frontier\\efficient_frontier.py:257: UserWarning: max_sharpe transforms the optimization problem so additional objectives may not work as expected.\n",
      "  warnings.warn(\n"
     ]
    },
    {
     "data": {
      "text/plain": [
       "OrderedDict([('AAPL', 0.12925),\n",
       "             ('AMZN', 0.14009),\n",
       "             ('BRK-A', 0.10955),\n",
       "             ('MSFT', 0.12494),\n",
       "             ('TSLA', 0.09621),\n",
       "             ('UNH', 0.05944),\n",
       "             ('XOM', 0.34051)])"
      ]
     },
     "execution_count": 35,
     "metadata": {},
     "output_type": "execute_result"
    }
   ],
   "source": [
    "from pypfopt import EfficientFrontier, objective_functions\n",
    "\n",
    "ef = EfficientFrontier(ret_bl, S)\n",
    "ef.add_objective(objective_functions.L2_reg)\n",
    "ef.max_sharpe()\n",
    "weights = ef.clean_weights()\n",
    "weights"
   ]
  },
  {
   "cell_type": "code",
   "execution_count": 36,
   "id": "5630f9bd",
   "metadata": {},
   "outputs": [
    {
     "data": {
      "text/plain": [
       "<AxesSubplot:ylabel='None'>"
      ]
     },
     "execution_count": 36,
     "metadata": {},
     "output_type": "execute_result"
    },
    {
     "data": {
      "image/png": "[encoded data removed]",
      "text/plain": [
       "<Figure size 432x288 with 1 Axes>"
      ]
     },
     "metadata": {},
     "output_type": "display_data"
    }
   ],
   "source": [
    "pd.Series(weights).plot.pie()"
   ]
  },
  {
   "cell_type": "code",
   "execution_count": 37,
   "id": "6f7a71c4",
   "metadata": {},
   "outputs": [
    {
     "name": "stdout",
     "output_type": "stream",
     "text": [
      "Leftover: $1463.24\n"
     ]
    },
    {
     "name": "stderr",
     "output_type": "stream",
     "text": [
      "C:\\Users\\samdo\\anaconda3\\lib\\site-packages\\cvxpy\\problems\\problem.py:1337: UserWarning: Solution may be inaccurate. Try another solver, adjusting the solver settings, or solve with verbose=True for more information.\n",
      "  warnings.warn(\n"
     ]
    },
    {
     "data": {
      "text/plain": [
       "{'AAPL': 13, 'AMZN': 21, 'MSFT': 8, 'TSLA': 7, 'UNH': 2, 'XOM': 45}"
      ]
     },
     "execution_count": 37,
     "metadata": {},
     "output_type": "execute_result"
    }
   ],
   "source": [
    "#so, say we had $15k, this is how we'd allocate it\n",
    "\n",
    "from pypfopt import DiscreteAllocation\n",
    "\n",
    "da = DiscreteAllocation(weights, prices.iloc[-1], total_portfolio_value=15000)\n",
    "alloc, leftover = da.lp_portfolio()\n",
    "print(f\"Leftover: ${leftover:.2f}\")\n",
    "alloc"
   ]
  },
  {
   "cell_type": "markdown",
   "id": "9aae0144",
   "metadata": {},
   "source": [
    "Remarks:\n",
    " - We were not conservative enough (overly optimistic) in our view for Exxon Mobil and were punished\n",
    " - We were more conservative with our view for Tesla than the market implied returns indicate we should to be, and used a high confidence value, and so it will definitely help to input confidence values obtained from comparing our views to other analysts' views. \n",
    " - In this case, factoring other analysts' views into our confidences would have lowered the confidence for our Tesla view, allowing market implied returns to have more influence, making our weight for Tesla less conservative, giving higher returns.\n",
    " - We didn't input a view for Microsoft, and so its weight was determined using an \"expected return\" which used only market-implied returns and variances as inputs. "
   ]
  },
  {
   "cell_type": "code",
   "execution_count": null,
   "id": "db4858d3",
   "metadata": {},
   "outputs": [],
   "source": []
  }
 ],
 "metadata": {
  "kernelspec": {
   "display_name": "Python 3 (ipykernel)",
   "language": "python",
   "name": "python3"
  },
  "language_info": {
   "codemirror_mode": {
    "name": "ipython",
    "version": 3
   },
   "file_extension": ".py",
   "mimetype": "text/x-python",
   "name": "python",
   "nbconvert_exporter": "python",
   "pygments_lexer": "ipython3",
   "version": "3.9.12"
  }
 },
 "nbformat": 4,
 "nbformat_minor": 5
}
