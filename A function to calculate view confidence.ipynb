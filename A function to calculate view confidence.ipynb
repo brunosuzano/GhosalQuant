{
 "cells": [
  {
   "cell_type": "markdown",
   "id": "eeb389b4",
   "metadata": {},
   "source": [
    "# Adding a function calculating view confidence to the BL model"
   ]
  },
  {
   "cell_type": "code",
   "execution_count": 2,
   "id": "3d251962",
   "metadata": {},
   "outputs": [],
   "source": [
    "#importing packages and data\n",
    "\n",
    "import numpy as np\n",
    "import pandas as pd\n",
    "import matplotlib.pyplot as plt\n",
    "import yfinance as yf\n",
    "import scipy.integrate as integrate"
   ]
  },
  {
   "cell_type": "code",
   "execution_count": 3,
   "id": "8c56c687",
   "metadata": {},
   "outputs": [
    {
     "name": "stdout",
     "output_type": "stream",
     "text": [
      "[*********************100%***********************]  7 of 7 completed\n"
     ]
    },
    {
     "data": {
      "text/html": [
       "<div>\n",
       "<style scoped>\n",
       "    .dataframe tbody tr th:only-of-type {\n",
       "        vertical-align: middle;\n",
       "    }\n",
       "\n",
       "    .dataframe tbody tr th {\n",
       "        vertical-align: top;\n",
       "    }\n",
       "\n",
       "    .dataframe thead th {\n",
       "        text-align: right;\n",
       "    }\n",
       "</style>\n",
       "<table border=\"1\" class=\"dataframe\">\n",
       "  <thead>\n",
       "    <tr style=\"text-align: right;\">\n",
       "      <th></th>\n",
       "      <th>AAPL</th>\n",
       "      <th>AMZN</th>\n",
       "      <th>BRK-A</th>\n",
       "      <th>MSFT</th>\n",
       "      <th>TSLA</th>\n",
       "      <th>UNH</th>\n",
       "      <th>XOM</th>\n",
       "    </tr>\n",
       "    <tr>\n",
       "      <th>Date</th>\n",
       "      <th></th>\n",
       "      <th></th>\n",
       "      <th></th>\n",
       "      <th></th>\n",
       "      <th></th>\n",
       "      <th></th>\n",
       "      <th></th>\n",
       "    </tr>\n",
       "  </thead>\n",
       "  <tbody>\n",
       "    <tr>\n",
       "      <th>2022-11-07</th>\n",
       "      <td>138.919998</td>\n",
       "      <td>90.529999</td>\n",
       "      <td>438575.0</td>\n",
       "      <td>227.229630</td>\n",
       "      <td>197.080002</td>\n",
       "      <td>545.020020</td>\n",
       "      <td>112.732475</td>\n",
       "    </tr>\n",
       "    <tr>\n",
       "      <th>2022-11-08</th>\n",
       "      <td>139.500000</td>\n",
       "      <td>89.980003</td>\n",
       "      <td>442100.0</td>\n",
       "      <td>228.226822</td>\n",
       "      <td>191.300003</td>\n",
       "      <td>553.049988</td>\n",
       "      <td>113.089600</td>\n",
       "    </tr>\n",
       "    <tr>\n",
       "      <th>2022-11-09</th>\n",
       "      <td>134.869995</td>\n",
       "      <td>86.139999</td>\n",
       "      <td>435945.0</td>\n",
       "      <td>223.879074</td>\n",
       "      <td>177.589996</td>\n",
       "      <td>540.659973</td>\n",
       "      <td>108.030334</td>\n",
       "    </tr>\n",
       "    <tr>\n",
       "      <th>2022-11-10</th>\n",
       "      <td>146.869995</td>\n",
       "      <td>96.629997</td>\n",
       "      <td>457665.0</td>\n",
       "      <td>242.297165</td>\n",
       "      <td>190.720001</td>\n",
       "      <td>544.169983</td>\n",
       "      <td>109.617554</td>\n",
       "    </tr>\n",
       "    <tr>\n",
       "      <th>2022-11-11</th>\n",
       "      <td>149.699997</td>\n",
       "      <td>100.790001</td>\n",
       "      <td>469047.0</td>\n",
       "      <td>246.415558</td>\n",
       "      <td>195.970001</td>\n",
       "      <td>522.080017</td>\n",
       "      <td>113.040001</td>\n",
       "    </tr>\n",
       "  </tbody>\n",
       "</table>\n",
       "</div>"
      ],
      "text/plain": [
       "                  AAPL        AMZN     BRK-A        MSFT        TSLA  \\\n",
       "Date                                                                   \n",
       "2022-11-07  138.919998   90.529999  438575.0  227.229630  197.080002   \n",
       "2022-11-08  139.500000   89.980003  442100.0  228.226822  191.300003   \n",
       "2022-11-09  134.869995   86.139999  435945.0  223.879074  177.589996   \n",
       "2022-11-10  146.869995   96.629997  457665.0  242.297165  190.720001   \n",
       "2022-11-11  149.699997  100.790001  469047.0  246.415558  195.970001   \n",
       "\n",
       "                   UNH         XOM  \n",
       "Date                                \n",
       "2022-11-07  545.020020  112.732475  \n",
       "2022-11-08  553.049988  113.089600  \n",
       "2022-11-09  540.659973  108.030334  \n",
       "2022-11-10  544.169983  109.617554  \n",
       "2022-11-11  522.080017  113.040001  "
      ]
     },
     "execution_count": 3,
     "metadata": {},
     "output_type": "execute_result"
    }
   ],
   "source": [
    "#data on our stocks of choice (as a pandas dataframe)\n",
    "\n",
    "tickers = ['AMZN','AAPL','BRK-A','XOM','MSFT','TSLA','UNH']\n",
    "data = yf.download(tickers, start=\"2017-11-14\",end=\"2022-11-14\")\n",
    "prices = data['Adj Close']\n",
    "prices.tail()"
   ]
  },
  {
   "cell_type": "code",
   "execution_count": 4,
   "id": "9513c4dc",
   "metadata": {},
   "outputs": [
    {
     "name": "stdout",
     "output_type": "stream",
     "text": [
      "[*********************100%***********************]  1 of 1 completed\n"
     ]
    },
    {
     "data": {
      "text/plain": [
       "Date\n",
       "2017-11-14    236.508179\n",
       "2017-11-15    235.324387\n",
       "2017-11-16    237.324905\n",
       "2017-11-17    236.627441\n",
       "2017-11-20    237.031204\n",
       "Name: Adj Close, dtype: float64"
      ]
     },
     "execution_count": 4,
     "metadata": {},
     "output_type": "execute_result"
    }
   ],
   "source": [
    "#data on the market (as a pandas series)\n",
    "\n",
    "market_prices = yf.download(\"SPY\", start=\"2017-11-14\", end=\"2022-11-14\")[\"Adj Close\"]\n",
    "market_prices.head()"
   ]
  },
  {
   "cell_type": "code",
   "execution_count": 5,
   "id": "d9b7f0c0",
   "metadata": {},
   "outputs": [
    {
     "data": {
      "text/plain": [
       "{'AMZN': 962836430848,\n",
       " 'AAPL': 2327593615360,\n",
       " 'BRK-A': 691453296640,\n",
       " 'XOM': 451405774848,\n",
       " 'MSFT': 1887695405056,\n",
       " 'TSLA': 605335322624,\n",
       " 'UNH': 501110046720}"
      ]
     },
     "execution_count": 5,
     "metadata": {},
     "output_type": "execute_result"
    }
   ],
   "source": [
    "#a dictionary of market caps\n",
    "mcaps = {}\n",
    "for t in tickers:\n",
    "    stock = yf.Ticker(t)\n",
    "    mcaps[t] = stock.info['marketCap']\n",
    "mcaps"
   ]
  },
  {
   "cell_type": "code",
   "execution_count": 6,
   "id": "63773293",
   "metadata": {},
   "outputs": [],
   "source": [
    "import pypfopt"
   ]
  },
  {
   "cell_type": "code",
   "execution_count": 7,
   "id": "83ccfaa2",
   "metadata": {},
   "outputs": [
    {
     "name": "stdout",
     "output_type": "stream",
     "text": [
      "2.35438180048611\n"
     ]
    },
    {
     "data": {
      "text/html": [
       "<div>\n",
       "<style scoped>\n",
       "    .dataframe tbody tr th:only-of-type {\n",
       "        vertical-align: middle;\n",
       "    }\n",
       "\n",
       "    .dataframe tbody tr th {\n",
       "        vertical-align: top;\n",
       "    }\n",
       "\n",
       "    .dataframe thead th {\n",
       "        text-align: right;\n",
       "    }\n",
       "</style>\n",
       "<table border=\"1\" class=\"dataframe\">\n",
       "  <thead>\n",
       "    <tr style=\"text-align: right;\">\n",
       "      <th></th>\n",
       "      <th>AAPL</th>\n",
       "      <th>AMZN</th>\n",
       "      <th>BRK-A</th>\n",
       "      <th>MSFT</th>\n",
       "      <th>TSLA</th>\n",
       "      <th>UNH</th>\n",
       "      <th>XOM</th>\n",
       "    </tr>\n",
       "  </thead>\n",
       "  <tbody>\n",
       "    <tr>\n",
       "      <th>AAPL</th>\n",
       "      <td>0.110720</td>\n",
       "      <td>0.075439</td>\n",
       "      <td>0.040538</td>\n",
       "      <td>0.077575</td>\n",
       "      <td>0.098873</td>\n",
       "      <td>0.047699</td>\n",
       "      <td>0.037758</td>\n",
       "    </tr>\n",
       "    <tr>\n",
       "      <th>AMZN</th>\n",
       "      <td>0.075439</td>\n",
       "      <td>0.126363</td>\n",
       "      <td>0.031366</td>\n",
       "      <td>0.076801</td>\n",
       "      <td>0.097810</td>\n",
       "      <td>0.036003</td>\n",
       "      <td>0.025849</td>\n",
       "    </tr>\n",
       "    <tr>\n",
       "      <th>BRK-A</th>\n",
       "      <td>0.040538</td>\n",
       "      <td>0.031366</td>\n",
       "      <td>0.051274</td>\n",
       "      <td>0.038923</td>\n",
       "      <td>0.040998</td>\n",
       "      <td>0.037809</td>\n",
       "      <td>0.044619</td>\n",
       "    </tr>\n",
       "    <tr>\n",
       "      <th>MSFT</th>\n",
       "      <td>0.077575</td>\n",
       "      <td>0.076801</td>\n",
       "      <td>0.038923</td>\n",
       "      <td>0.095648</td>\n",
       "      <td>0.091127</td>\n",
       "      <td>0.049349</td>\n",
       "      <td>0.034742</td>\n",
       "    </tr>\n",
       "    <tr>\n",
       "      <th>TSLA</th>\n",
       "      <td>0.098873</td>\n",
       "      <td>0.097810</td>\n",
       "      <td>0.040998</td>\n",
       "      <td>0.091127</td>\n",
       "      <td>0.413354</td>\n",
       "      <td>0.044131</td>\n",
       "      <td>0.043251</td>\n",
       "    </tr>\n",
       "    <tr>\n",
       "      <th>UNH</th>\n",
       "      <td>0.047699</td>\n",
       "      <td>0.036003</td>\n",
       "      <td>0.037809</td>\n",
       "      <td>0.049349</td>\n",
       "      <td>0.044131</td>\n",
       "      <td>0.089028</td>\n",
       "      <td>0.040311</td>\n",
       "    </tr>\n",
       "    <tr>\n",
       "      <th>XOM</th>\n",
       "      <td>0.037758</td>\n",
       "      <td>0.025849</td>\n",
       "      <td>0.044619</td>\n",
       "      <td>0.034742</td>\n",
       "      <td>0.043251</td>\n",
       "      <td>0.040311</td>\n",
       "      <td>0.113783</td>\n",
       "    </tr>\n",
       "  </tbody>\n",
       "</table>\n",
       "</div>"
      ],
      "text/plain": [
       "           AAPL      AMZN     BRK-A      MSFT      TSLA       UNH       XOM\n",
       "AAPL   0.110720  0.075439  0.040538  0.077575  0.098873  0.047699  0.037758\n",
       "AMZN   0.075439  0.126363  0.031366  0.076801  0.097810  0.036003  0.025849\n",
       "BRK-A  0.040538  0.031366  0.051274  0.038923  0.040998  0.037809  0.044619\n",
       "MSFT   0.077575  0.076801  0.038923  0.095648  0.091127  0.049349  0.034742\n",
       "TSLA   0.098873  0.097810  0.040998  0.091127  0.413354  0.044131  0.043251\n",
       "UNH    0.047699  0.036003  0.037809  0.049349  0.044131  0.089028  0.040311\n",
       "XOM    0.037758  0.025849  0.044619  0.034742  0.043251  0.040311  0.113783"
      ]
     },
     "execution_count": 7,
     "metadata": {},
     "output_type": "execute_result"
    }
   ],
   "source": [
    "#market implied risk premium and variance-covariance matrix\n",
    "\n",
    "from pypfopt import black_litterman, risk_models\n",
    "from pypfopt import BlackLittermanModel, plotting\n",
    "\n",
    "S = risk_models.CovarianceShrinkage(prices).ledoit_wolf()\n",
    "delta = black_litterman.market_implied_risk_aversion(market_prices)\n",
    "print(delta)\n",
    "S"
   ]
  },
  {
   "cell_type": "code",
   "execution_count": 8,
   "id": "a7fec220",
   "metadata": {},
   "outputs": [
    {
     "data": {
      "text/plain": [
       "AAPL     0.211970\n",
       "AMZN     0.195242\n",
       "BRK-A    0.114269\n",
       "MSFT     0.196735\n",
       "TSLA     0.278829\n",
       "UNH      0.132375\n",
       "XOM      0.117299\n",
       "dtype: float64"
      ]
     },
     "execution_count": 8,
     "metadata": {},
     "output_type": "execute_result"
    }
   ],
   "source": [
    "#prior: market implied returns\n",
    "\n",
    "market_prior = black_litterman.market_implied_prior_returns(mcaps, delta, S)\n",
    "market_prior"
   ]
  },
  {
   "cell_type": "code",
   "execution_count": 22,
   "id": "ecee367d",
   "metadata": {},
   "outputs": [],
   "source": [
    "#adding our views and other analysts' views \n",
    "#(which I've made up to be different in places but not too accurate, could maybe find on Bloomberg?)\n",
    "#have also assumed that investment horizons are the same for all, however adjustments can be made if not\n",
    "\n",
    "viewdict = {\n",
    "    \"AAPL\": 0.2,\n",
    "    \"AMZN\": 0.3,\n",
    "    \"BRK-A\": 0.1,\n",
    "    \"MSFT\": 0.1,\n",
    "    \"TSLA\": 0.2,\n",
    "    \"UNH\": 0.1,\n",
    "    \"XOM\": 0.6\n",
    "}\n",
    "\n",
    "other_analyst_views = {\n",
    "    \"AAPL\": 0.25,\n",
    "    \"AMZN\": 0.2,\n",
    "    \"BRK-A\": 0.15,\n",
    "    \"MSFT\": 0.2,\n",
    "    \"TSLA\": 0.3,\n",
    "    \"UNH\": 0.15,\n",
    "    \"XOM\": 0.1\n",
    "}"
   ]
  },
  {
   "cell_type": "code",
   "execution_count": 24,
   "id": "42955eae",
   "metadata": {},
   "outputs": [
    {
     "data": {
      "text/plain": [
       "[0.778470252856639,\n",
       " 0.8805557595502739,\n",
       " 0.8252395308786221,\n",
       " 0.13826502156393072,\n",
       " 0.7464368729112612,\n",
       " 0.8763965814112398,\n",
       " 0.8669185635338078]"
      ]
     },
     "execution_count": 24,
     "metadata": {},
     "output_type": "execute_result"
    }
   ],
   "source": [
    "def confidence_calc(stock: str) -> float:\n",
    "    \n",
    "    mu = other_analyst_views[stock]\n",
    "    sigma = (S[stock][stock])**0.5\n",
    "    \n",
    "    def normal_pdf(x):\n",
    "        output = (sigma*(2*3.1415926)**0.5)**(-1)*np.power(2.718281828,-0.5*((x-mu)/sigma)**2)\n",
    "        return(output)\n",
    "    \n",
    "    def normal_cdf(x):\n",
    "        output = integrate.quad(normal_pdf,-1*np.inf,x)\n",
    "        return(output)\n",
    "       \n",
    "    if viewdict[stock]>other_analyst_views[stock]:\n",
    "        output = 2*(1-normal_cdf(viewdict[stock])[0])\n",
    "    else:\n",
    "        output = 2*normal_cdf(viewdict[stock])[0]\n",
    "    return(output)\n",
    "    \n",
    "confidences = [confidence_calc(stock) for stock in tickers]\n",
    "\n",
    "confidences"
   ]
  },
  {
   "cell_type": "code",
   "execution_count": 11,
   "id": "2c66a747",
   "metadata": {},
   "outputs": [],
   "source": [
    "bl = BlackLittermanModel(S, pi=market_prior, absolute_views=viewdict, omega=\"idzorek\", view_confidences=confidences)"
   ]
  },
  {
   "cell_type": "code",
   "execution_count": 12,
   "id": "b544ad92",
   "metadata": {},
   "outputs": [
    {
     "data": {
      "text/plain": [
       "array([0.00075094, 0.00179796, 0.00054291, 0.00162458, 0.00291489,\n",
       "       0.00068334, 0.03545759])"
      ]
     },
     "execution_count": 12,
     "metadata": {},
     "output_type": "execute_result"
    }
   ],
   "source": [
    "np.diag(bl.omega)\n",
    "\n",
    "#lots of variation, good"
   ]
  },
  {
   "cell_type": "code",
   "execution_count": 13,
   "id": "3423840c",
   "metadata": {},
   "outputs": [
    {
     "data": {
      "text/plain": [
       "AAPL     0.197586\n",
       "AMZN     0.246487\n",
       "BRK-A    0.100441\n",
       "MSFT     0.150523\n",
       "TSLA     0.212304\n",
       "UNH      0.101582\n",
       "XOM      0.145182\n",
       "dtype: float64"
      ]
     },
     "execution_count": 13,
     "metadata": {},
     "output_type": "execute_result"
    }
   ],
   "source": [
    "omega = bl.omega\n",
    "bl = BlackLittermanModel(S, pi=\"market\", market_caps=mcaps, risk_aversion=delta,\n",
    "                        absolute_views=viewdict, omega=omega)\n",
    "ret_bl = bl.bl_returns()\n",
    "ret_bl"
   ]
  },
  {
   "cell_type": "code",
   "execution_count": 27,
   "id": "5896d547",
   "metadata": {},
   "outputs": [
    {
     "data": {
      "text/html": [
       "<div>\n",
       "<style scoped>\n",
       "    .dataframe tbody tr th:only-of-type {\n",
       "        vertical-align: middle;\n",
       "    }\n",
       "\n",
       "    .dataframe tbody tr th {\n",
       "        vertical-align: top;\n",
       "    }\n",
       "\n",
       "    .dataframe thead th {\n",
       "        text-align: right;\n",
       "    }\n",
       "</style>\n",
       "<table border=\"1\" class=\"dataframe\">\n",
       "  <thead>\n",
       "    <tr style=\"text-align: right;\">\n",
       "      <th></th>\n",
       "      <th>Prior</th>\n",
       "      <th>Views</th>\n",
       "      <th>Other Analysts' Views</th>\n",
       "      <th>Posterior</th>\n",
       "    </tr>\n",
       "  </thead>\n",
       "  <tbody>\n",
       "    <tr>\n",
       "      <th>AAPL</th>\n",
       "      <td>0.211970</td>\n",
       "      <td>0.2</td>\n",
       "      <td>0.25</td>\n",
       "      <td>0.197586</td>\n",
       "    </tr>\n",
       "    <tr>\n",
       "      <th>AMZN</th>\n",
       "      <td>0.195242</td>\n",
       "      <td>0.3</td>\n",
       "      <td>0.20</td>\n",
       "      <td>0.246487</td>\n",
       "    </tr>\n",
       "    <tr>\n",
       "      <th>BRK-A</th>\n",
       "      <td>0.114269</td>\n",
       "      <td>0.1</td>\n",
       "      <td>0.15</td>\n",
       "      <td>0.100441</td>\n",
       "    </tr>\n",
       "    <tr>\n",
       "      <th>MSFT</th>\n",
       "      <td>0.196735</td>\n",
       "      <td>0.1</td>\n",
       "      <td>0.20</td>\n",
       "      <td>0.150523</td>\n",
       "    </tr>\n",
       "    <tr>\n",
       "      <th>TSLA</th>\n",
       "      <td>0.278829</td>\n",
       "      <td>0.2</td>\n",
       "      <td>0.30</td>\n",
       "      <td>0.212304</td>\n",
       "    </tr>\n",
       "    <tr>\n",
       "      <th>UNH</th>\n",
       "      <td>0.132375</td>\n",
       "      <td>0.1</td>\n",
       "      <td>0.15</td>\n",
       "      <td>0.101582</td>\n",
       "    </tr>\n",
       "    <tr>\n",
       "      <th>XOM</th>\n",
       "      <td>0.117299</td>\n",
       "      <td>0.6</td>\n",
       "      <td>0.10</td>\n",
       "      <td>0.145182</td>\n",
       "    </tr>\n",
       "  </tbody>\n",
       "</table>\n",
       "</div>"
      ],
      "text/plain": [
       "          Prior  Views  Other Analysts' Views  Posterior\n",
       "AAPL   0.211970    0.2                   0.25   0.197586\n",
       "AMZN   0.195242    0.3                   0.20   0.246487\n",
       "BRK-A  0.114269    0.1                   0.15   0.100441\n",
       "MSFT   0.196735    0.1                   0.20   0.150523\n",
       "TSLA   0.278829    0.2                   0.30   0.212304\n",
       "UNH    0.132375    0.1                   0.15   0.101582\n",
       "XOM    0.117299    0.6                   0.10   0.145182"
      ]
     },
     "execution_count": 27,
     "metadata": {},
     "output_type": "execute_result"
    }
   ],
   "source": [
    "rets_df = pd.DataFrame([market_prior, pd.Series(viewdict), pd.Series(other_analyst_views), ret_bl], \n",
    "             index=[\"Prior\", \"Views\", \"Other Analysts' Views\", \"Posterior\"]).T\n",
    "rets_df\n",
    "\n",
    "#could've made the other analysts' views a dictionary in the same format as our views, then include it in these graphs"
   ]
  },
  {
   "cell_type": "code",
   "execution_count": 28,
   "id": "38675847",
   "metadata": {},
   "outputs": [
    {
     "data": {
      "text/plain": [
       "<AxesSubplot:>"
      ]
     },
     "execution_count": 28,
     "metadata": {},
     "output_type": "execute_result"
    },
    {
     "data": {
      "image/png": "[encoded data removed]",
      "text/plain": [
       "<Figure size 864x576 with 1 Axes>"
      ]
     },
     "metadata": {
      "needs_background": "light"
     },
     "output_type": "display_data"
    }
   ],
   "source": [
    "#final expected returns, alongside the market implied returns, our predicted returns, and other analysts' predicted returns\n",
    "\n",
    "rets_df.plot.bar(figsize=(12,8))"
   ]
  },
  {
   "cell_type": "markdown",
   "id": "1db8ca39",
   "metadata": {},
   "source": [
    "More conservative (and diversified) than my earlier simulation. Previously, views were only punished for disagreeing with market implied returns, but now they are also punished for disagreeing with other analysts' predictions."
   ]
  },
  {
   "cell_type": "code",
   "execution_count": 16,
   "id": "00b37d0f",
   "metadata": {},
   "outputs": [
    {
     "name": "stderr",
     "output_type": "stream",
     "text": [
      "C:\\Users\\samdo\\anaconda3\\lib\\site-packages\\pypfopt\\efficient_frontier\\efficient_frontier.py:257: UserWarning: max_sharpe transforms the optimization problem so additional objectives may not work as expected.\n",
      "  warnings.warn(\n"
     ]
    },
    {
     "data": {
      "text/plain": [
       "OrderedDict([('AAPL', 0.18438),\n",
       "             ('AMZN', 0.25312),\n",
       "             ('BRK-A', 0.07857),\n",
       "             ('MSFT', 0.12061),\n",
       "             ('TSLA', 0.15239),\n",
       "             ('UNH', 0.07388),\n",
       "             ('XOM', 0.13705)])"
      ]
     },
     "execution_count": 16,
     "metadata": {},
     "output_type": "execute_result"
    }
   ],
   "source": [
    "#portfolio allocation:\n",
    "\n",
    "from pypfopt import EfficientFrontier, objective_functions\n",
    "\n",
    "ef = EfficientFrontier(ret_bl, S)\n",
    "ef.add_objective(objective_functions.L2_reg)\n",
    "ef.max_sharpe()\n",
    "weights = ef.clean_weights()\n",
    "weights"
   ]
  },
  {
   "cell_type": "code",
   "execution_count": 17,
   "id": "9dfe6cfc",
   "metadata": {},
   "outputs": [
    {
     "data": {
      "text/plain": [
       "<AxesSubplot:ylabel='None'>"
      ]
     },
     "execution_count": 17,
     "metadata": {},
     "output_type": "execute_result"
    },
    {
     "data": {
      "image/png": "[encoded data removed]",
      "text/plain": [
       "<Figure size 432x288 with 1 Axes>"
      ]
     },
     "metadata": {},
     "output_type": "display_data"
    }
   ],
   "source": [
    "pd.Series(weights).plot.pie()"
   ]
  },
  {
   "cell_type": "code",
   "execution_count": 18,
   "id": "05d2576a",
   "metadata": {},
   "outputs": [
    {
     "name": "stdout",
     "output_type": "stream",
     "text": [
      "Leftover: $1319.95\n"
     ]
    },
    {
     "name": "stderr",
     "output_type": "stream",
     "text": [
      "C:\\Users\\samdo\\anaconda3\\lib\\site-packages\\cvxpy\\problems\\problem.py:1337: UserWarning: Solution may be inaccurate. Try another solver, adjusting the solver settings, or solve with verbose=True for more information.\n",
      "  warnings.warn(\n"
     ]
    },
    {
     "data": {
      "text/plain": [
       "{'AAPL': 18, 'AMZN': 38, 'MSFT': 7, 'TSLA': 12, 'UNH': 2, 'XOM': 18}"
      ]
     },
     "execution_count": 18,
     "metadata": {},
     "output_type": "execute_result"
    }
   ],
   "source": [
    "#hypothetical allocation of $15000\n",
    "\n",
    "from pypfopt import DiscreteAllocation\n",
    "\n",
    "da = DiscreteAllocation(weights, prices.iloc[-1], total_portfolio_value=15000)\n",
    "alloc, leftover = da.lp_portfolio()\n",
    "print(f\"Leftover: ${leftover:.2f}\")\n",
    "alloc"
   ]
  },
  {
   "cell_type": "code",
   "execution_count": null,
   "id": "0d9423f3",
   "metadata": {},
   "outputs": [],
   "source": []
  }
 ],
 "metadata": {
  "kernelspec": {
   "display_name": "Python 3 (ipykernel)",
   "language": "python",
   "name": "python3"
  },
  "language_info": {
   "codemirror_mode": {
    "name": "ipython",
    "version": 3
   },
   "file_extension": ".py",
   "mimetype": "text/x-python",
   "name": "python",
   "nbconvert_exporter": "python",
   "pygments_lexer": "ipython3",
   "version": "3.9.12"
  }
 },
 "nbformat": 4,
 "nbformat_minor": 5
}
