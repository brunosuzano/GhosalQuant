{
 "cells": [
  {
   "cell_type": "code",
   "execution_count": 1,
   "id": "f08bca87",
   "metadata": {},
   "outputs": [],
   "source": [
    "import numpy as np\n",
    "import pandas as pd\n",
    "import matplotlib.pyplot as plt\n",
    "import yfinance as yf\n",
    "import scipy.integrate as integrate"
   ]
  },
  {
   "cell_type": "code",
   "execution_count": 13,
   "id": "7234dafc",
   "metadata": {},
   "outputs": [
    {
     "name": "stdout",
     "output_type": "stream",
     "text": [
      "[*********************100%***********************]  9 of 9 completed\n"
     ]
    },
    {
     "data": {
      "text/html": [
       "<div>\n",
       "<style scoped>\n",
       "    .dataframe tbody tr th:only-of-type {\n",
       "        vertical-align: middle;\n",
       "    }\n",
       "\n",
       "    .dataframe tbody tr th {\n",
       "        vertical-align: top;\n",
       "    }\n",
       "\n",
       "    .dataframe thead th {\n",
       "        text-align: right;\n",
       "    }\n",
       "</style>\n",
       "<table border=\"1\" class=\"dataframe\">\n",
       "  <thead>\n",
       "    <tr style=\"text-align: right;\">\n",
       "      <th></th>\n",
       "      <th>300750.SZ</th>\n",
       "      <th>CRC</th>\n",
       "      <th>CSCO</th>\n",
       "      <th>EQNR</th>\n",
       "      <th>IBE.MC</th>\n",
       "      <th>KER.PA</th>\n",
       "      <th>PUB.PA</th>\n",
       "      <th>SCCO</th>\n",
       "      <th>UNFI</th>\n",
       "    </tr>\n",
       "    <tr>\n",
       "      <th>Date</th>\n",
       "      <th></th>\n",
       "      <th></th>\n",
       "      <th></th>\n",
       "      <th></th>\n",
       "      <th></th>\n",
       "      <th></th>\n",
       "      <th></th>\n",
       "      <th></th>\n",
       "      <th></th>\n",
       "    </tr>\n",
       "  </thead>\n",
       "  <tbody>\n",
       "    <tr>\n",
       "      <th>2020-12-08</th>\n",
       "      <td>265.502930</td>\n",
       "      <td>21.484394</td>\n",
       "      <td>41.794132</td>\n",
       "      <td>15.377456</td>\n",
       "      <td>10.348726</td>\n",
       "      <td>565.055420</td>\n",
       "      <td>34.013515</td>\n",
       "      <td>53.985592</td>\n",
       "      <td>18.799999</td>\n",
       "    </tr>\n",
       "    <tr>\n",
       "      <th>2020-12-09</th>\n",
       "      <td>265.472992</td>\n",
       "      <td>20.731073</td>\n",
       "      <td>42.095558</td>\n",
       "      <td>15.553780</td>\n",
       "      <td>10.357941</td>\n",
       "      <td>554.815002</td>\n",
       "      <td>34.828732</td>\n",
       "      <td>53.242626</td>\n",
       "      <td>16.110001</td>\n",
       "    </tr>\n",
       "    <tr>\n",
       "      <th>2020-12-10</th>\n",
       "      <td>264.295349</td>\n",
       "      <td>21.425694</td>\n",
       "      <td>41.747044</td>\n",
       "      <td>15.711544</td>\n",
       "      <td>10.413233</td>\n",
       "      <td>553.848938</td>\n",
       "      <td>34.742008</td>\n",
       "      <td>52.965134</td>\n",
       "      <td>17.010000</td>\n",
       "    </tr>\n",
       "    <tr>\n",
       "      <th>2020-12-11</th>\n",
       "      <td>266.031891</td>\n",
       "      <td>19.566845</td>\n",
       "      <td>41.747044</td>\n",
       "      <td>15.655864</td>\n",
       "      <td>10.367157</td>\n",
       "      <td>554.042114</td>\n",
       "      <td>35.045540</td>\n",
       "      <td>53.493267</td>\n",
       "      <td>15.580000</td>\n",
       "    </tr>\n",
       "    <tr>\n",
       "      <th>2020-12-14</th>\n",
       "      <td>265.472992</td>\n",
       "      <td>18.138466</td>\n",
       "      <td>41.671684</td>\n",
       "      <td>15.386732</td>\n",
       "      <td>10.399410</td>\n",
       "      <td>544.960999</td>\n",
       "      <td>35.487843</td>\n",
       "      <td>53.018848</td>\n",
       "      <td>14.940000</td>\n",
       "    </tr>\n",
       "  </tbody>\n",
       "</table>\n",
       "</div>"
      ],
      "text/plain": [
       "             300750.SZ        CRC       CSCO       EQNR     IBE.MC  \\\n",
       "Date                                                                 \n",
       "2020-12-08  265.502930  21.484394  41.794132  15.377456  10.348726   \n",
       "2020-12-09  265.472992  20.731073  42.095558  15.553780  10.357941   \n",
       "2020-12-10  264.295349  21.425694  41.747044  15.711544  10.413233   \n",
       "2020-12-11  266.031891  19.566845  41.747044  15.655864  10.367157   \n",
       "2020-12-14  265.472992  18.138466  41.671684  15.386732  10.399410   \n",
       "\n",
       "                KER.PA     PUB.PA       SCCO       UNFI  \n",
       "Date                                                     \n",
       "2020-12-08  565.055420  34.013515  53.985592  18.799999  \n",
       "2020-12-09  554.815002  34.828732  53.242626  16.110001  \n",
       "2020-12-10  553.848938  34.742008  52.965134  17.010000  \n",
       "2020-12-11  554.042114  35.045540  53.493267  15.580000  \n",
       "2020-12-14  544.960999  35.487843  53.018848  14.940000  "
      ]
     },
     "execution_count": 13,
     "metadata": {},
     "output_type": "execute_result"
    }
   ],
   "source": [
    "#historical prices for our stocks\n",
    "tickers = ['CRC','IBE.MC','300750.SZ','SCCO','PUB.PA','KER.PA','CSCO','UNFI','EQNR']\n",
    "data = yf.download(tickers, start=\"2020-12-08\",end=\"2022-12-08\")\n",
    "prices = data['Adj Close']\n",
    "prices.head()"
   ]
  },
  {
   "cell_type": "code",
   "execution_count": 14,
   "id": "224fc709",
   "metadata": {},
   "outputs": [
    {
     "name": "stdout",
     "output_type": "stream",
     "text": [
      "[*********************100%***********************]  1 of 1 completed\n"
     ]
    },
    {
     "data": {
      "text/plain": [
       "Date\n",
       "2022-12-01    521.390015\n",
       "2022-12-02    518.830017\n",
       "2022-12-05    504.489990\n",
       "2022-12-06    499.899994\n",
       "2022-12-07    500.000000\n",
       "Name: Adj Close, dtype: float64"
      ]
     },
     "execution_count": 14,
     "metadata": {},
     "output_type": "execute_result"
    }
   ],
   "source": [
    "#market data over the same period\n",
    "market_prices = yf.download(\"MSCI\", start=\"2017-12-08\", end=\"2022-12-08\")[\"Adj Close\"]\n",
    "market_prices.tail()"
   ]
  },
  {
   "cell_type": "code",
   "execution_count": 15,
   "id": "c776a6b1",
   "metadata": {},
   "outputs": [
    {
     "data": {
      "text/plain": [
       "{'CRC': 3040592896,\n",
       " 'IBE.MC': 66751885312,\n",
       " '300750.SZ': 1021726359552,\n",
       " 'SCCO': 46733774848,\n",
       " 'PUB.PA': 15721390080,\n",
       " 'KER.PA': 66450677760,\n",
       " 'CSCO': 199718617088,\n",
       " 'UNFI': 2365561600,\n",
       " 'EQNR': 114820890624}"
      ]
     },
     "execution_count": 15,
     "metadata": {},
     "output_type": "execute_result"
    }
   ],
   "source": [
    "mcaps = {}\n",
    "for t in tickers:\n",
    "    stock = yf.Ticker(t)\n",
    "    mcaps[t] = stock.info['marketCap']\n",
    "mcaps"
   ]
  },
  {
   "cell_type": "code",
   "execution_count": 8,
   "id": "e50ee8bf",
   "metadata": {},
   "outputs": [],
   "source": [
    "import pypfopt"
   ]
  },
  {
   "cell_type": "code",
   "execution_count": 16,
   "id": "d6e5028d",
   "metadata": {},
   "outputs": [
    {
     "name": "stdout",
     "output_type": "stream",
     "text": [
      "2.581287108507394\n"
     ]
    },
    {
     "data": {
      "text/html": [
       "<div>\n",
       "<style scoped>\n",
       "    .dataframe tbody tr th:only-of-type {\n",
       "        vertical-align: middle;\n",
       "    }\n",
       "\n",
       "    .dataframe tbody tr th {\n",
       "        vertical-align: top;\n",
       "    }\n",
       "\n",
       "    .dataframe thead th {\n",
       "        text-align: right;\n",
       "    }\n",
       "</style>\n",
       "<table border=\"1\" class=\"dataframe\">\n",
       "  <thead>\n",
       "    <tr style=\"text-align: right;\">\n",
       "      <th></th>\n",
       "      <th>300750.SZ</th>\n",
       "      <th>CRC</th>\n",
       "      <th>CSCO</th>\n",
       "      <th>EQNR</th>\n",
       "      <th>IBE.MC</th>\n",
       "      <th>KER.PA</th>\n",
       "      <th>PUB.PA</th>\n",
       "      <th>SCCO</th>\n",
       "      <th>UNFI</th>\n",
       "    </tr>\n",
       "  </thead>\n",
       "  <tbody>\n",
       "    <tr>\n",
       "      <th>300750.SZ</th>\n",
       "      <td>0.258934</td>\n",
       "      <td>0.013236</td>\n",
       "      <td>0.000766</td>\n",
       "      <td>0.004463</td>\n",
       "      <td>-0.005849</td>\n",
       "      <td>0.019571</td>\n",
       "      <td>0.012128</td>\n",
       "      <td>0.037427</td>\n",
       "      <td>0.002763</td>\n",
       "    </tr>\n",
       "    <tr>\n",
       "      <th>CRC</th>\n",
       "      <td>0.013236</td>\n",
       "      <td>0.217379</td>\n",
       "      <td>0.023711</td>\n",
       "      <td>0.079638</td>\n",
       "      <td>0.010150</td>\n",
       "      <td>0.023797</td>\n",
       "      <td>0.022553</td>\n",
       "      <td>0.061115</td>\n",
       "      <td>0.071557</td>\n",
       "    </tr>\n",
       "    <tr>\n",
       "      <th>CSCO</th>\n",
       "      <td>0.000766</td>\n",
       "      <td>0.023711</td>\n",
       "      <td>0.062898</td>\n",
       "      <td>0.014281</td>\n",
       "      <td>0.011711</td>\n",
       "      <td>0.019704</td>\n",
       "      <td>0.015869</td>\n",
       "      <td>0.020695</td>\n",
       "      <td>0.024858</td>\n",
       "    </tr>\n",
       "    <tr>\n",
       "      <th>EQNR</th>\n",
       "      <td>0.004463</td>\n",
       "      <td>0.079638</td>\n",
       "      <td>0.014281</td>\n",
       "      <td>0.127471</td>\n",
       "      <td>-0.000179</td>\n",
       "      <td>0.015039</td>\n",
       "      <td>0.015994</td>\n",
       "      <td>0.059916</td>\n",
       "      <td>0.032798</td>\n",
       "    </tr>\n",
       "    <tr>\n",
       "      <th>IBE.MC</th>\n",
       "      <td>-0.005849</td>\n",
       "      <td>0.010150</td>\n",
       "      <td>0.011711</td>\n",
       "      <td>-0.000179</td>\n",
       "      <td>0.056656</td>\n",
       "      <td>0.020610</td>\n",
       "      <td>0.017575</td>\n",
       "      <td>0.001903</td>\n",
       "      <td>-0.000921</td>\n",
       "    </tr>\n",
       "    <tr>\n",
       "      <th>KER.PA</th>\n",
       "      <td>0.019571</td>\n",
       "      <td>0.023797</td>\n",
       "      <td>0.019704</td>\n",
       "      <td>0.015039</td>\n",
       "      <td>0.020610</td>\n",
       "      <td>0.098001</td>\n",
       "      <td>0.040701</td>\n",
       "      <td>0.030750</td>\n",
       "      <td>0.015156</td>\n",
       "    </tr>\n",
       "    <tr>\n",
       "      <th>PUB.PA</th>\n",
       "      <td>0.012128</td>\n",
       "      <td>0.022553</td>\n",
       "      <td>0.015869</td>\n",
       "      <td>0.015994</td>\n",
       "      <td>0.017575</td>\n",
       "      <td>0.040701</td>\n",
       "      <td>0.078610</td>\n",
       "      <td>0.024233</td>\n",
       "      <td>0.012772</td>\n",
       "    </tr>\n",
       "    <tr>\n",
       "      <th>SCCO</th>\n",
       "      <td>0.037427</td>\n",
       "      <td>0.061115</td>\n",
       "      <td>0.020695</td>\n",
       "      <td>0.059916</td>\n",
       "      <td>0.001903</td>\n",
       "      <td>0.030750</td>\n",
       "      <td>0.024233</td>\n",
       "      <td>0.144084</td>\n",
       "      <td>0.037042</td>\n",
       "    </tr>\n",
       "    <tr>\n",
       "      <th>UNFI</th>\n",
       "      <td>0.002763</td>\n",
       "      <td>0.071557</td>\n",
       "      <td>0.024858</td>\n",
       "      <td>0.032798</td>\n",
       "      <td>-0.000921</td>\n",
       "      <td>0.015156</td>\n",
       "      <td>0.012772</td>\n",
       "      <td>0.037042</td>\n",
       "      <td>0.299509</td>\n",
       "    </tr>\n",
       "  </tbody>\n",
       "</table>\n",
       "</div>"
      ],
      "text/plain": [
       "           300750.SZ       CRC      CSCO      EQNR    IBE.MC    KER.PA  \\\n",
       "300750.SZ   0.258934  0.013236  0.000766  0.004463 -0.005849  0.019571   \n",
       "CRC         0.013236  0.217379  0.023711  0.079638  0.010150  0.023797   \n",
       "CSCO        0.000766  0.023711  0.062898  0.014281  0.011711  0.019704   \n",
       "EQNR        0.004463  0.079638  0.014281  0.127471 -0.000179  0.015039   \n",
       "IBE.MC     -0.005849  0.010150  0.011711 -0.000179  0.056656  0.020610   \n",
       "KER.PA      0.019571  0.023797  0.019704  0.015039  0.020610  0.098001   \n",
       "PUB.PA      0.012128  0.022553  0.015869  0.015994  0.017575  0.040701   \n",
       "SCCO        0.037427  0.061115  0.020695  0.059916  0.001903  0.030750   \n",
       "UNFI        0.002763  0.071557  0.024858  0.032798 -0.000921  0.015156   \n",
       "\n",
       "             PUB.PA      SCCO      UNFI  \n",
       "300750.SZ  0.012128  0.037427  0.002763  \n",
       "CRC        0.022553  0.061115  0.071557  \n",
       "CSCO       0.015869  0.020695  0.024858  \n",
       "EQNR       0.015994  0.059916  0.032798  \n",
       "IBE.MC     0.017575  0.001903 -0.000921  \n",
       "KER.PA     0.040701  0.030750  0.015156  \n",
       "PUB.PA     0.078610  0.024233  0.012772  \n",
       "SCCO       0.024233  0.144084  0.037042  \n",
       "UNFI       0.012772  0.037042  0.299509  "
      ]
     },
     "execution_count": 16,
     "metadata": {},
     "output_type": "execute_result"
    }
   ],
   "source": [
    "from pypfopt import black_litterman, risk_models\n",
    "from pypfopt import BlackLittermanModel, plotting\n",
    "\n",
    "S = risk_models.CovarianceShrinkage(prices).ledoit_wolf()\n",
    "delta = black_litterman.market_implied_risk_aversion(market_prices)\n",
    "print(delta)\n",
    "S"
   ]
  },
  {
   "cell_type": "code",
   "execution_count": 17,
   "id": "2aa942fd",
   "metadata": {},
   "outputs": [
    {
     "data": {
      "text/plain": [
       "300750.SZ    0.470196\n",
       "CRC          0.076591\n",
       "CSCO         0.050934\n",
       "EQNR         0.064339\n",
       "IBE.MC       0.023169\n",
       "KER.PA       0.079996\n",
       "PUB.PA       0.059865\n",
       "SCCO         0.118749\n",
       "UNFI         0.045786\n",
       "dtype: float64"
      ]
     },
     "execution_count": 17,
     "metadata": {},
     "output_type": "execute_result"
    }
   ],
   "source": [
    "market_prior = black_litterman.market_implied_prior_returns(mcaps, delta, S)\n",
    "market_prior"
   ]
  },
  {
   "cell_type": "code",
   "execution_count": 18,
   "id": "981b316d",
   "metadata": {},
   "outputs": [],
   "source": [
    "viewdict = {\n",
    "    'CRC': 0.19,\n",
    "    'IBE.MC': 0.13,\n",
    "    '300750.SZ': 0.12,\n",
    "    'SCCO': 0.37,\n",
    "    'PUB.PA': 0.05,\n",
    "    'KER.PA': 0.07,\n",
    "    'CSCO': 0.11,\n",
    "    'UNFI': 0.48,\n",
    "    'EQNR': 0.12\n",
    "}\n",
    "\n",
    "other_analyst_views = {\n",
    "    'CRC': 0.42,\n",
    "    'IBE.MC': 0.10,\n",
    "    '300750.SZ': 0.41,\n",
    "    'SCCO': -0.17,\n",
    "    'PUB.PA': 0.11,\n",
    "    'KER.PA': 0.16,\n",
    "    'CSCO': 0.10,\n",
    "    'UNFI': 0.07,\n",
    "    'EQNR': 0.04\n",
    "}"
   ]
  },
  {
   "cell_type": "code",
   "execution_count": 19,
   "id": "0addc0f6",
   "metadata": {},
   "outputs": [
    {
     "data": {
      "text/plain": [
       "[0.6217939389475913,\n",
       " 0.8997026806461137,\n",
       " 0.5687411996321479,\n",
       " 0.15484988414460066,\n",
       " 0.830547967597087,\n",
       " 0.7737351379651417,\n",
       " 0.9681940975344203,\n",
       " 0.453755974687827,\n",
       " 0.8227028841928681]"
      ]
     },
     "execution_count": 19,
     "metadata": {},
     "output_type": "execute_result"
    }
   ],
   "source": [
    "def confidence_calc(stock: str) -> float:\n",
    "    \n",
    "    mu = other_analyst_views[stock]\n",
    "    sigma = (S[stock][stock])**0.5\n",
    "    \n",
    "    def normal_pdf(x):\n",
    "        output = (sigma*(2*3.1415926)**0.5)**(-1)*np.power(2.718281828,-0.5*((x-mu)/sigma)**2)\n",
    "        return(output)\n",
    "    \n",
    "    def normal_cdf(x):\n",
    "        output = integrate.quad(normal_pdf,-1*np.inf,x)\n",
    "        return(output)\n",
    "       \n",
    "    if viewdict[stock]>other_analyst_views[stock]:\n",
    "        output = 2*(1-normal_cdf(viewdict[stock])[0])\n",
    "    else:\n",
    "        output = 2*normal_cdf(viewdict[stock])[0]\n",
    "    return(output)\n",
    "    \n",
    "confidences = [confidence_calc(stock) for stock in tickers]\n",
    "\n",
    "confidences"
   ]
  },
  {
   "cell_type": "code",
   "execution_count": 20,
   "id": "60eca788",
   "metadata": {},
   "outputs": [],
   "source": [
    "bl = BlackLittermanModel(S, pi=market_prior, absolute_views=viewdict, omega=\"idzorek\", view_confidences=confidences)"
   ]
  },
  {
   "cell_type": "code",
   "execution_count": 21,
   "id": "27aa6243",
   "metadata": {},
   "outputs": [
    {
     "data": {
      "text/plain": [
       "array([0.00661102, 0.0003158 , 0.00981708, 0.0393197 , 0.00080192,\n",
       "       0.00143293, 0.00010331, 0.01802784, 0.00137354])"
      ]
     },
     "execution_count": 21,
     "metadata": {},
     "output_type": "execute_result"
    }
   ],
   "source": [
    "np.diag(bl.omega)"
   ]
  },
  {
   "cell_type": "code",
   "execution_count": 22,
   "id": "df9f7cc0",
   "metadata": {},
   "outputs": [
    {
     "data": {
      "text/plain": [
       "300750.SZ    0.259272\n",
       "CRC          0.173664\n",
       "CSCO         0.108721\n",
       "EQNR         0.114061\n",
       "IBE.MC       0.117243\n",
       "KER.PA       0.078881\n",
       "PUB.PA       0.055949\n",
       "SCCO         0.154274\n",
       "UNFI         0.247307\n",
       "dtype: float64"
      ]
     },
     "execution_count": 22,
     "metadata": {},
     "output_type": "execute_result"
    }
   ],
   "source": [
    "omega = bl.omega\n",
    "bl = BlackLittermanModel(S, pi=\"market\", market_caps=mcaps, risk_aversion=delta,\n",
    "                        absolute_views=viewdict, omega=omega)\n",
    "ret_bl = bl.bl_returns()\n",
    "ret_bl"
   ]
  },
  {
   "cell_type": "code",
   "execution_count": 23,
   "id": "e86128d4",
   "metadata": {},
   "outputs": [
    {
     "data": {
      "text/html": [
       "<div>\n",
       "<style scoped>\n",
       "    .dataframe tbody tr th:only-of-type {\n",
       "        vertical-align: middle;\n",
       "    }\n",
       "\n",
       "    .dataframe tbody tr th {\n",
       "        vertical-align: top;\n",
       "    }\n",
       "\n",
       "    .dataframe thead th {\n",
       "        text-align: right;\n",
       "    }\n",
       "</style>\n",
       "<table border=\"1\" class=\"dataframe\">\n",
       "  <thead>\n",
       "    <tr style=\"text-align: right;\">\n",
       "      <th></th>\n",
       "      <th>Prior</th>\n",
       "      <th>Views</th>\n",
       "      <th>Other Analysts' Views</th>\n",
       "      <th>Posterior</th>\n",
       "    </tr>\n",
       "  </thead>\n",
       "  <tbody>\n",
       "    <tr>\n",
       "      <th>300750.SZ</th>\n",
       "      <td>0.470196</td>\n",
       "      <td>0.12</td>\n",
       "      <td>0.41</td>\n",
       "      <td>0.259272</td>\n",
       "    </tr>\n",
       "    <tr>\n",
       "      <th>CRC</th>\n",
       "      <td>0.076591</td>\n",
       "      <td>0.19</td>\n",
       "      <td>0.42</td>\n",
       "      <td>0.173664</td>\n",
       "    </tr>\n",
       "    <tr>\n",
       "      <th>CSCO</th>\n",
       "      <td>0.050934</td>\n",
       "      <td>0.11</td>\n",
       "      <td>0.10</td>\n",
       "      <td>0.108721</td>\n",
       "    </tr>\n",
       "    <tr>\n",
       "      <th>EQNR</th>\n",
       "      <td>0.064339</td>\n",
       "      <td>0.12</td>\n",
       "      <td>0.04</td>\n",
       "      <td>0.114061</td>\n",
       "    </tr>\n",
       "    <tr>\n",
       "      <th>IBE.MC</th>\n",
       "      <td>0.023169</td>\n",
       "      <td>0.13</td>\n",
       "      <td>0.10</td>\n",
       "      <td>0.117243</td>\n",
       "    </tr>\n",
       "    <tr>\n",
       "      <th>KER.PA</th>\n",
       "      <td>0.079996</td>\n",
       "      <td>0.07</td>\n",
       "      <td>0.16</td>\n",
       "      <td>0.078881</td>\n",
       "    </tr>\n",
       "    <tr>\n",
       "      <th>PUB.PA</th>\n",
       "      <td>0.059865</td>\n",
       "      <td>0.05</td>\n",
       "      <td>0.11</td>\n",
       "      <td>0.055949</td>\n",
       "    </tr>\n",
       "    <tr>\n",
       "      <th>SCCO</th>\n",
       "      <td>0.118749</td>\n",
       "      <td>0.37</td>\n",
       "      <td>-0.17</td>\n",
       "      <td>0.154274</td>\n",
       "    </tr>\n",
       "    <tr>\n",
       "      <th>UNFI</th>\n",
       "      <td>0.045786</td>\n",
       "      <td>0.48</td>\n",
       "      <td>0.07</td>\n",
       "      <td>0.247307</td>\n",
       "    </tr>\n",
       "  </tbody>\n",
       "</table>\n",
       "</div>"
      ],
      "text/plain": [
       "              Prior  Views  Other Analysts' Views  Posterior\n",
       "300750.SZ  0.470196   0.12                   0.41   0.259272\n",
       "CRC        0.076591   0.19                   0.42   0.173664\n",
       "CSCO       0.050934   0.11                   0.10   0.108721\n",
       "EQNR       0.064339   0.12                   0.04   0.114061\n",
       "IBE.MC     0.023169   0.13                   0.10   0.117243\n",
       "KER.PA     0.079996   0.07                   0.16   0.078881\n",
       "PUB.PA     0.059865   0.05                   0.11   0.055949\n",
       "SCCO       0.118749   0.37                  -0.17   0.154274\n",
       "UNFI       0.045786   0.48                   0.07   0.247307"
      ]
     },
     "execution_count": 23,
     "metadata": {},
     "output_type": "execute_result"
    }
   ],
   "source": [
    "rets_df = pd.DataFrame([market_prior, pd.Series(viewdict), pd.Series(other_analyst_views), ret_bl], \n",
    "             index=[\"Prior\", \"Views\", \"Other Analysts' Views\", \"Posterior\"]).T\n",
    "rets_df\n"
   ]
  },
  {
   "cell_type": "code",
   "execution_count": 24,
   "id": "f24339ad",
   "metadata": {},
   "outputs": [
    {
     "data": {
      "text/plain": [
       "<AxesSubplot:>"
      ]
     },
     "execution_count": 24,
     "metadata": {},
     "output_type": "execute_result"
    },
    {
     "data": {
      "image/png": "[encoded data removed]",
      "text/plain": [
       "<Figure size 864x576 with 1 Axes>"
      ]
     },
     "metadata": {
      "needs_background": "light"
     },
     "output_type": "display_data"
    }
   ],
   "source": [
    "rets_df.plot.bar(figsize=(12,8))"
   ]
  },
  {
   "cell_type": "code",
   "execution_count": 28,
   "id": "fefeaa78",
   "metadata": {},
   "outputs": [
    {
     "name": "stderr",
     "output_type": "stream",
     "text": [
      "C:\\Users\\samdo\\anaconda3\\lib\\site-packages\\pypfopt\\efficient_frontier\\efficient_frontier.py:257: UserWarning: max_sharpe transforms the optimization problem so additional objectives may not work as expected.\n",
      "  warnings.warn(\n"
     ]
    },
    {
     "data": {
      "text/plain": [
       "OrderedDict([('300750.SZ', 0.22312),\n",
       "             ('CRC', 0.12343),\n",
       "             ('CSCO', 0.08741),\n",
       "             ('EQNR', 0.07713),\n",
       "             ('IBE.MC', 0.10863),\n",
       "             ('KER.PA', 0.04651),\n",
       "             ('PUB.PA', 0.02424),\n",
       "             ('SCCO', 0.11361),\n",
       "             ('UNFI', 0.19592)])"
      ]
     },
     "execution_count": 28,
     "metadata": {},
     "output_type": "execute_result"
    }
   ],
   "source": [
    "from pypfopt import EfficientFrontier, objective_functions\n",
    "\n",
    "ef = EfficientFrontier(ret_bl, S)\n",
    "ef.add_objective(objective_functions.L2_reg)\n",
    "ef.max_sharpe()\n",
    "weights = ef.clean_weights()\n",
    "weights"
   ]
  },
  {
   "cell_type": "code",
   "execution_count": 29,
   "id": "d2f00ecd",
   "metadata": {},
   "outputs": [
    {
     "data": {
      "text/plain": [
       "<AxesSubplot:ylabel='None'>"
      ]
     },
     "execution_count": 29,
     "metadata": {},
     "output_type": "execute_result"
    },
    {
     "data": {
      "image/png": "[encoded data removed]",
      "text/plain": [
       "<Figure size 432x288 with 1 Axes>"
      ]
     },
     "metadata": {},
     "output_type": "display_data"
    }
   ],
   "source": [
    "pd.Series(weights).plot.pie()"
   ]
  },
  {
   "cell_type": "code",
   "execution_count": 26,
   "id": "3f47c72f",
   "metadata": {},
   "outputs": [
    {
     "name": "stdout",
     "output_type": "stream",
     "text": [
      "Leftover: $206.44\n"
     ]
    },
    {
     "name": "stderr",
     "output_type": "stream",
     "text": [
      "C:\\Users\\samdo\\anaconda3\\lib\\site-packages\\cvxpy\\problems\\problem.py:1337: UserWarning: Solution may be inaccurate. Try another solver, adjusting the solver settings, or solve with verbose=True for more information.\n",
      "  warnings.warn(\n"
     ]
    },
    {
     "data": {
      "text/plain": [
       "{'300750.SZ': 8,\n",
       " 'CRC': 45,\n",
       " 'CSCO': 27,\n",
       " 'EQNR': 32,\n",
       " 'IBE.MC': 149,\n",
       " 'KER.PA': 1,\n",
       " 'PUB.PA': 6,\n",
       " 'SCCO': 28,\n",
       " 'UNFI': 74}"
      ]
     },
     "execution_count": 26,
     "metadata": {},
     "output_type": "execute_result"
    }
   ],
   "source": [
    "from pypfopt import DiscreteAllocation\n",
    "\n",
    "da = DiscreteAllocation(weights, prices.iloc[-1], total_portfolio_value=15000)\n",
    "alloc, leftover = da.lp_portfolio()\n",
    "print(f\"Leftover: ${leftover:.2f}\")\n",
    "alloc"
   ]
  },
  {
   "cell_type": "code",
   "execution_count": null,
   "id": "f3510be9",
   "metadata": {},
   "outputs": [],
   "source": []
  }
 ],
 "metadata": {
  "kernelspec": {
   "display_name": "Python 3 (ipykernel)",
   "language": "python",
   "name": "python3"
  },
  "language_info": {
   "codemirror_mode": {
    "name": "ipython",
    "version": 3
   },
   "file_extension": ".py",
   "mimetype": "text/x-python",
   "name": "python",
   "nbconvert_exporter": "python",
   "pygments_lexer": "ipython3",
   "version": "3.9.12"
  }
 },
 "nbformat": 4,
 "nbformat_minor": 5
}
